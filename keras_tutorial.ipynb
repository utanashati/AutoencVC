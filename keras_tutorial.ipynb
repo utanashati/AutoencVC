{
 "cells": [
  {
   "cell_type": "markdown",
   "metadata": {},
   "source": [
    "# Autoencoder for MNIST\n",
    "\n",
    "The code is based on this tutorial: https://blog.keras.io/building-autoencoders-in-keras.html"
   ]
  },
  {
   "cell_type": "code",
   "execution_count": 1,
   "metadata": {},
   "outputs": [
    {
     "name": "stderr",
     "output_type": "stream",
     "text": [
      "Using TensorFlow backend.\n"
     ]
    }
   ],
   "source": [
    "import numpy as np\n",
    "from keras.callbacks import TensorBoard\n",
    "import matplotlib.pyplot as plt\n",
    "\n",
    "from keras.layers import Input, Dense\n",
    "from keras.models import Model\n",
    "from keras.models import load_model\n",
    "from keras import regularizers\n",
    "\n",
    "# Convolutional Autoencoder\n",
    "from keras.layers import Conv2D, MaxPooling2D, UpSampling2D\n",
    "from keras import backend as K"
   ]
  },
  {
   "cell_type": "code",
   "execution_count": 141,
   "metadata": {},
   "outputs": [],
   "source": [
    "# Downloading and preprocessing the dataset.\n",
    "from keras.datasets import mnist\n",
    "(x_train, y_train), (x_test, y_test) = mnist.load_data()"
   ]
  },
  {
   "cell_type": "code",
   "execution_count": 142,
   "metadata": {},
   "outputs": [
    {
     "data": {
      "text/plain": [
       "(60000, 28, 28)"
      ]
     },
     "execution_count": 142,
     "metadata": {},
     "output_type": "execute_result"
    }
   ],
   "source": [
    "x_train.shape"
   ]
  },
  {
   "cell_type": "raw",
   "metadata": {},
   "source": [
    "from PIL import Image"
   ]
  },
  {
   "cell_type": "raw",
   "metadata": {},
   "source": [
    "# Reduce image size isung PIL\n",
    "x_train = np.array([np.array(Image.fromarray(img).resize((10, 10))) for img in x_train])\n",
    "x_test = np.array([np.array(Image.fromarray(img).resize((10, 10))) for img in x_test])"
   ]
  },
  {
   "cell_type": "raw",
   "metadata": {},
   "source": [
    "print(x_train[0])"
   ]
  },
  {
   "cell_type": "code",
   "execution_count": 146,
   "metadata": {},
   "outputs": [],
   "source": [
    "# Normalization\n",
    "x_train = x_train.astype('float32') / 255.\n",
    "x_test = x_test.astype('float32') / 255.\n",
    "# 2D pic -> vector\n",
    "x_train = x_train.reshape((len(x_train), np.prod(x_train.shape[1:])))\n",
    "x_test = x_test.reshape((len(x_test), np.prod(x_test.shape[1:])))"
   ]
  },
  {
   "cell_type": "raw",
   "metadata": {},
   "source": [
    "# Keep only 8 characters (0-7)\n",
    "y_train_8 = np.array([y_train[i] for i in np.where(y_train < 8)[0]])\n",
    "x_train_8 = np.array([x_train[i] for i in np.where(y_train < 8)[0]])\n",
    "y_test_8 = np.array([y_test[i] for i in np.where(y_test < 8)[0]])\n",
    "x_test_8 = np.array([x_test[i] for i in np.where(y_test < 8)[0]])"
   ]
  },
  {
   "cell_type": "raw",
   "metadata": {},
   "source": [
    "np.unique(y_test_8), np.unique(y_train_8)"
   ]
  },
  {
   "cell_type": "raw",
   "metadata": {},
   "source": [
    "x_train_8.shape"
   ]
  },
  {
   "cell_type": "markdown",
   "metadata": {},
   "source": [
    "# Autoencoder"
   ]
  },
  {
   "cell_type": "code",
   "execution_count": 31,
   "metadata": {},
   "outputs": [],
   "source": [
    "def build_autoenc(encoding_dim=8, input_shape=(100,), optimizer='adadelta', loss='binary_crossentropy', sparsity=0):\n",
    "\n",
    "    # this is the size of our encoded representations\n",
    "    encoding_dim = encoding_dim\n",
    "\n",
    "    # this is our input placeholder\n",
    "    input_img = Input(shape=input_shape)\n",
    "    # \"encoded\" is the encoded representation of the input\n",
    "    encoded = Dense(encoding_dim, activation='relu', \\\n",
    "                    activity_regularizer=regularizers.l1(sparsity))(input_img)\n",
    "    # \"decoded\" is the lossy reconstruction of the input\n",
    "    decoded = Dense(input_shape[0], activation='sigmoid')(encoded)\n",
    "\n",
    "    # this model maps an input to its reconstruction\n",
    "    autoencoder = Model(input_img, decoded)\n",
    "\n",
    "    # this model maps an input to its encoded representation\n",
    "    encoder = Model(input_img, encoded)\n",
    "\n",
    "    # create a placeholder for an encoded (encoding_dim-dimensional) input\n",
    "    encoded_input = Input(shape=(encoding_dim,))\n",
    "    # retrieve the last layer of the autoencoder model\n",
    "    decoder_layer = autoencoder.layers[-1]\n",
    "    # create the decoder model\n",
    "    decoder = Model(encoded_input, decoder_layer(encoded_input))\n",
    "\n",
    "    autoencoder.compile(optimizer=optimizer, loss=loss)  \n",
    "\n",
    "    return autoencoder, encoder, decoder"
   ]
  },
  {
   "cell_type": "code",
   "execution_count": 32,
   "metadata": {},
   "outputs": [],
   "source": [
    "# `AppendedHistory` - a class I wrote for one of the miniprojects for ANNs course\n",
    "#                     and modified for this project.\n",
    "#                     It allows storing and plotting parametrised learning curves.\n",
    "from helpers.AppendedHistory import AppendedHistory\n",
    "# Reloads modules automatically when they are changed.\n",
    "%load_ext autoreload\n",
    "%autoreload 2"
   ]
  },
  {
   "cell_type": "code",
   "execution_count": 33,
   "metadata": {},
   "outputs": [],
   "source": [
    "from keras.callbacks import EarlyStopping"
   ]
  },
  {
   "cell_type": "code",
   "execution_count": 34,
   "metadata": {},
   "outputs": [],
   "source": [
    "history_sl = AppendedHistory(varname='Rounds', keys=['loss'])"
   ]
  },
  {
   "cell_type": "code",
   "execution_count": 48,
   "metadata": {},
   "outputs": [
    {
     "name": "stdout",
     "output_type": "stream",
     "text": [
      "Round 0\n",
      "CPU times: user 2min 5s, sys: 15.4 s, total: 2min 21s\n",
      "Wall time: 1min 4s\n",
      "Round 1\n",
      "CPU times: user 2min 18s, sys: 17 s, total: 2min 35s\n",
      "Wall time: 1min 10s\n",
      "Round 2\n",
      "CPU times: user 2min 17s, sys: 16.8 s, total: 2min 34s\n",
      "Wall time: 1min 10s\n",
      "Round 3\n",
      "CPU times: user 2min 19s, sys: 17 s, total: 2min 36s\n",
      "Wall time: 1min 12s\n",
      "Round 4\n",
      "CPU times: user 2min 25s, sys: 17.7 s, total: 2min 43s\n",
      "Wall time: 1min 15s\n"
     ]
    }
   ],
   "source": [
    "callback = EarlyStopping(monitor='val_loss', min_delta=0, patience=10, verbose=0, restore_best_weights=True)\n",
    "for i in range(5):\n",
    "    print('Round {}'.format(i))\n",
    "    autoencoder, encoder, decoder = build_autoenc(optimizer='adam')\n",
    "    %time history = autoencoder.fit(x_train_8, x_train_8, \\\n",
    "                              epochs=1000, \\\n",
    "                              batch_size=512, \\\n",
    "                              shuffle=True, \\\n",
    "                              validation_data=(x_test_8, x_test_8), \\\n",
    "                              verbose=0, callbacks=[callback])\n",
    "    history_sl.append_hist(i, history)\n",
    "    autoencoder.save('data/incite/models_log/mnist/autoencoder_{}'.format(i))\n",
    "    encoder.save('data/incite/models_log/mnist/encoder_{}'.format(i))\n",
    "    decoder.save('data/incite/models_log/mnist/decoder_{}'.format(i))"
   ]
  },
  {
   "cell_type": "code",
   "execution_count": 51,
   "metadata": {},
   "outputs": [
    {
     "data": {
      "image/png": "[encoded data removed]",
      "text/plain": [
       "<matplotlib.figure.Figure at 0x12970b7f0>"
      ]
     },
     "metadata": {},
     "output_type": "display_data"
    }
   ],
   "source": [
    "history_sl.plot(\"\", \"val_loss\", False, [3, 100], False)"
   ]
  },
  {
   "cell_type": "markdown",
   "metadata": {},
   "source": [
    "# Readout"
   ]
  },
  {
   "cell_type": "markdown",
   "metadata": {},
   "source": [
    "## Input"
   ]
  },
  {
   "cell_type": "code",
   "execution_count": 53,
   "metadata": {},
   "outputs": [],
   "source": [
    "from keras.metrics import categorical_accuracy"
   ]
  },
  {
   "cell_type": "code",
   "execution_count": 54,
   "metadata": {},
   "outputs": [],
   "source": [
    "def build_readout(output_dim=8, num_hid=0, hidden_dim=8, input_shape=(8,), sparsity=0, \\\n",
    "                  activation='sigmoid', optimizer='adam', \\\n",
    "                  loss='categorical_crossentropy', metrics=[categorical_accuracy]):\n",
    "\n",
    "    output_dim = output_dim\n",
    "\n",
    "    input_repr = Input(shape=input_shape)\n",
    "    \n",
    "    prev_layer = input_repr\n",
    "    hidden_layers = [prev_layer]\n",
    "    for i in range(num_hid):\n",
    "        layer = Dense(hidden_dim, activation='relu', \\\n",
    "                      activity_regularizer=regularizers.l1(sparsity))(prev_layer)\n",
    "        hidden_layers.append(layer)\n",
    "        prev_layer = layer\n",
    "\n",
    "    output_layer = Dense(output_dim, activation=activation)(hidden_layers[-1])\n",
    "\n",
    "    readout = Model(input_repr, output_layer)\n",
    "\n",
    "    readout.compile(optimizer=optimizer, loss=loss, metrics=metrics)  \n",
    "\n",
    "    return readout"
   ]
  },
  {
   "cell_type": "code",
   "execution_count": 55,
   "metadata": {},
   "outputs": [],
   "source": [
    "d = {}\n",
    "one_hot = np.zeros(8)\n",
    "for i in range(8):\n",
    "    hot = np.copy(one_hot)\n",
    "    hot[i] = 1\n",
    "    d[i] = hot"
   ]
  },
  {
   "cell_type": "code",
   "execution_count": 56,
   "metadata": {},
   "outputs": [
    {
     "data": {
      "text/plain": [
       "{0: array([1., 0., 0., 0., 0., 0., 0., 0.]),\n",
       " 1: array([0., 1., 0., 0., 0., 0., 0., 0.]),\n",
       " 2: array([0., 0., 1., 0., 0., 0., 0., 0.]),\n",
       " 3: array([0., 0., 0., 1., 0., 0., 0., 0.]),\n",
       " 4: array([0., 0., 0., 0., 1., 0., 0., 0.]),\n",
       " 5: array([0., 0., 0., 0., 0., 1., 0., 0.]),\n",
       " 6: array([0., 0., 0., 0., 0., 0., 1., 0.]),\n",
       " 7: array([0., 0., 0., 0., 0., 0., 0., 1.])}"
      ]
     },
     "execution_count": 56,
     "metadata": {},
     "output_type": "execute_result"
    }
   ],
   "source": [
    "d"
   ]
  },
  {
   "cell_type": "code",
   "execution_count": 60,
   "metadata": {},
   "outputs": [],
   "source": [
    "y_train_hot = np.array([d[i] for i in y_train_8])\n",
    "y_test_hot = np.array([d[i] for i in y_test_8])"
   ]
  },
  {
   "cell_type": "code",
   "execution_count": 62,
   "metadata": {},
   "outputs": [],
   "source": [
    "history_in = AppendedHistory(varname='Round')"
   ]
  },
  {
   "cell_type": "code",
   "execution_count": 63,
   "metadata": {},
   "outputs": [
    {
     "name": "stdout",
     "output_type": "stream",
     "text": [
      "Round 0\n",
      "CPU times: user 35.6 s, sys: 4.45 s, total: 40.1 s\n",
      "Wall time: 23.8 s\n",
      "Round 1\n",
      "CPU times: user 31.8 s, sys: 4.02 s, total: 35.9 s\n",
      "Wall time: 21.1 s\n",
      "Round 2\n",
      "CPU times: user 36.1 s, sys: 4.56 s, total: 40.6 s\n",
      "Wall time: 24.1 s\n",
      "Round 3\n",
      "CPU times: user 33.3 s, sys: 4.09 s, total: 37.4 s\n",
      "Wall time: 22.4 s\n",
      "Round 4\n",
      "CPU times: user 35.8 s, sys: 4.45 s, total: 40.2 s\n",
      "Wall time: 23.9 s\n"
     ]
    }
   ],
   "source": [
    "callback = EarlyStopping(monitor='val_loss', min_delta=0, patience=10, verbose=0, restore_best_weights=True)\n",
    "for i in range(5):\n",
    "    print('Round {}'.format(i))\n",
    "    readout = build_readout(num_hid=0, input_shape=(100,))\n",
    "    %time history = readout.fit(x_train_8, y_train_hot, \\\n",
    "                          epochs=300, \\\n",
    "                          batch_size=512, \\\n",
    "                          shuffle=True, \\\n",
    "                          validation_data=(x_test_8, y_test_hot), \\\n",
    "                          verbose=0, callbacks=[callback])\n",
    "    history.history['acc'] = history.history.pop('categorical_accuracy')\n",
    "    history.history['val_acc'] = history.history.pop('val_categorical_accuracy')\n",
    "    history_in.append_hist(i, history)\n",
    "    readout.save('data/incite/models_log/mnist/ro_in_{}'.format(i))"
   ]
  },
  {
   "cell_type": "code",
   "execution_count": 65,
   "metadata": {},
   "outputs": [
    {
     "data": {
      "image/png": "[encoded data removed]",
      "text/plain": [
       "<matplotlib.figure.Figure at 0x12b4f6198>"
      ]
     },
     "metadata": {},
     "output_type": "display_data"
    }
   ],
   "source": [
    "history_in.plot_acc_loss(\"\", \"val_\", log=True)"
   ]
  },
  {
   "cell_type": "markdown",
   "metadata": {},
   "source": [
    "## Representations"
   ]
  },
  {
   "cell_type": "code",
   "execution_count": 69,
   "metadata": {},
   "outputs": [
    {
     "name": "stderr",
     "output_type": "stream",
     "text": [
      "/Users/utanashati/miniconda3/lib/python3.6/site-packages/keras/engine/saving.py:292: UserWarning: No training configuration found in save file: the model was *not* compiled. Compile it manually.\n",
      "  warnings.warn('No training configuration found in save file: '\n"
     ]
    }
   ],
   "source": [
    "encoder = load_model('data/incite/models_log/mnist/encoder_0')\n",
    "cl_x_train_in = encoder.predict(x_train_8)\n",
    "cl_x_test_in = encoder.predict(x_test_8)"
   ]
  },
  {
   "cell_type": "code",
   "execution_count": 70,
   "metadata": {},
   "outputs": [],
   "source": [
    "history_repr = AppendedHistory(varname='Round')"
   ]
  },
  {
   "cell_type": "code",
   "execution_count": 73,
   "metadata": {},
   "outputs": [
    {
     "name": "stdout",
     "output_type": "stream",
     "text": [
      "Round 0\n",
      "CPU times: user 26.4 s, sys: 3.42 s, total: 29.8 s\n",
      "Wall time: 18.2 s\n",
      "Round 1\n",
      "CPU times: user 23.9 s, sys: 3.03 s, total: 27 s\n",
      "Wall time: 16.5 s\n",
      "Round 2\n",
      "CPU times: user 33.7 s, sys: 4.48 s, total: 38.1 s\n",
      "Wall time: 22.5 s\n",
      "Round 3\n",
      "CPU times: user 32.4 s, sys: 4.29 s, total: 36.7 s\n",
      "Wall time: 21.7 s\n",
      "Round 4\n",
      "CPU times: user 22.4 s, sys: 2.91 s, total: 25.3 s\n",
      "Wall time: 15.1 s\n"
     ]
    }
   ],
   "source": [
    "callback = EarlyStopping(monitor='val_loss', min_delta=0, patience=10, verbose=0, restore_best_weights=True)\n",
    "for i in range(5):\n",
    "    print('Round {}'.format(i))\n",
    "    readout = build_readout(num_hid=0)\n",
    "    %time history = readout.fit(cl_x_train_in, y_train_hot, \\\n",
    "                            epochs=400, \\\n",
    "                            batch_size=512, \\\n",
    "                            shuffle=True, \\\n",
    "                            validation_data=(cl_x_test_in, y_test_hot), \\\n",
    "                            verbose=0, callbacks=[callback])\n",
    "    history.history['acc'] = history.history.pop('categorical_accuracy')\n",
    "    history.history['val_acc'] = history.history.pop('val_categorical_accuracy')\n",
    "    history_repr.append_hist(i, history)\n",
    "    readout.save('data/incite/models_log/mnist/ro_repr_{}'.format(i))"
   ]
  },
  {
   "cell_type": "code",
   "execution_count": 76,
   "metadata": {},
   "outputs": [
    {
     "data": {
      "image/png": "[encoded data removed]",
      "text/plain": [
       "<matplotlib.figure.Figure at 0x1251d3f98>"
      ]
     },
     "metadata": {},
     "output_type": "display_data"
    }
   ],
   "source": [
    "history_repr.plot_acc_loss(\"\", \"val_\", log=True)"
   ]
  },
  {
   "cell_type": "markdown",
   "metadata": {},
   "source": [
    "# Comparison"
   ]
  },
  {
   "cell_type": "code",
   "execution_count": 156,
   "metadata": {},
   "outputs": [],
   "source": [
    "def create_error_data(x_data, missing_pixels):\n",
    "    if missing_pixels == 0:\n",
    "        return x_data\n",
    "    else:\n",
    "        x_data_copy = np.copy(x_data)\n",
    "        for i in range(len(x_data_copy)):\n",
    "            for j in np.random.choice(np.arange(100), missing_pixels, False):\n",
    "                x_data_copy[i, j] = 0.0\n",
    "        x_data_copy = x_data_copy / np.max(x_data)\n",
    "        return x_data_copy"
   ]
  },
  {
   "cell_type": "code",
   "execution_count": 157,
   "metadata": {},
   "outputs": [
    {
     "data": {
      "image/png": "[encoded data removed]",
      "text/plain": [
       "<matplotlib.figure.Figure at 0x12bc88ba8>"
      ]
     },
     "metadata": {},
     "output_type": "display_data"
    }
   ],
   "source": [
    "plt.imshow(x_train_8[0].reshape(10, -1))\n",
    "plt.show()"
   ]
  },
  {
   "cell_type": "code",
   "execution_count": 159,
   "metadata": {},
   "outputs": [
    {
     "data": {
      "image/png": "[encoded data removed]",
      "text/plain": [
       "<matplotlib.figure.Figure at 0x12c234a90>"
      ]
     },
     "metadata": {},
     "output_type": "display_data"
    }
   ],
   "source": [
    "plt.imshow(create_error_data(x_train_8, 5)[0].reshape(10, -1))\n",
    "plt.show()"
   ]
  },
  {
   "cell_type": "code",
   "execution_count": 164,
   "metadata": {},
   "outputs": [],
   "source": [
    "def get_ro_in(ro_in, y_test_hot, max_pixels=15, num_rounds=5):\n",
    "    ls, acs = [], []\n",
    "    for i in range(max_pixels):\n",
    "        ls_i, acs_i = [], []\n",
    "        for j in range(num_rounds):\n",
    "            data = create_error_data(x_test_8, missing_pixels=i)\n",
    "            l, a = ro_in.evaluate(data, y_test_hot, batch_size=512, verbose=2)\n",
    "            ls_i.append(l)\n",
    "            acs_i.append(a)\n",
    "        ls.append(np.mean(ls_i))\n",
    "        acs.append(np.mean(acs_i))\n",
    "    return ls, acs"
   ]
  },
  {
   "cell_type": "code",
   "execution_count": 165,
   "metadata": {},
   "outputs": [],
   "source": [
    "def get_ro_repr(ro_repr, encoder, y_test_hot, max_pixels=15, num_rounds=5):\n",
    "    ls, acs = [], []\n",
    "    for i in range(max_pixels):\n",
    "        ls_i, acs_i = [], []\n",
    "        for j in range(num_rounds):\n",
    "            data = create_error_data(x_test_8, missing_pixels=i)\n",
    "            l, a = ro_repr.evaluate(encoder.predict(data), y_test_hot, batch_size=512, verbose=2)\n",
    "            ls_i.append(l)\n",
    "            acs_i.append(a)\n",
    "        ls.append(np.mean(ls_i))\n",
    "        acs.append(np.mean(acs_i))\n",
    "    return ls, acs"
   ]
  },
  {
   "cell_type": "code",
   "execution_count": 106,
   "metadata": {},
   "outputs": [
    {
     "name": "stdout",
     "output_type": "stream",
     "text": [
      "_________________________________________________________________\n",
      "Layer (type)                 Output Shape              Param #   \n",
      "=================================================================\n",
      "input_16 (InputLayer)        (None, 100)               0         \n",
      "_________________________________________________________________\n",
      "dense_16 (Dense)             (None, 8)                 808       \n",
      "=================================================================\n",
      "Total params: 808\n",
      "Trainable params: 808\n",
      "Non-trainable params: 0\n",
      "_________________________________________________________________\n"
     ]
    }
   ],
   "source": [
    "ro_in = load_model('data/incite/models_log/mnist/ro_in_0')\n",
    "ro_in.summary()"
   ]
  },
  {
   "cell_type": "code",
   "execution_count": 107,
   "metadata": {},
   "outputs": [
    {
     "name": "stderr",
     "output_type": "stream",
     "text": [
      "/Users/utanashati/miniconda3/lib/python3.6/site-packages/keras/engine/saving.py:292: UserWarning: No training configuration found in save file: the model was *not* compiled. Compile it manually.\n",
      "  warnings.warn('No training configuration found in save file: '\n"
     ]
    }
   ],
   "source": [
    "encoder = load_model('data/incite/models_log/mnist/encoder_0')"
   ]
  },
  {
   "cell_type": "code",
   "execution_count": 109,
   "metadata": {},
   "outputs": [
    {
     "name": "stdout",
     "output_type": "stream",
     "text": [
      "_________________________________________________________________\n",
      "Layer (type)                 Output Shape              Param #   \n",
      "=================================================================\n",
      "input_24 (InputLayer)        (None, 8)                 0         \n",
      "_________________________________________________________________\n",
      "dense_24 (Dense)             (None, 8)                 72        \n",
      "=================================================================\n",
      "Total params: 72\n",
      "Trainable params: 72\n",
      "Non-trainable params: 0\n",
      "_________________________________________________________________\n"
     ]
    }
   ],
   "source": [
    "ro_repr = load_model('data/incite/models_log/mnist/ro_repr_0')\n",
    "ro_repr.summary()"
   ]
  },
  {
   "cell_type": "code",
   "execution_count": 166,
   "metadata": {},
   "outputs": [
    {
     "name": "stdout",
     "output_type": "stream",
     "text": [
      "CPU times: user 15.5 s, sys: 246 ms, total: 15.7 s\n",
      "Wall time: 15.3 s\n"
     ]
    }
   ],
   "source": [
    "%time ls_in, acs_in = get_ro_in(ro_in, y_test_hot)"
   ]
  },
  {
   "cell_type": "code",
   "execution_count": 167,
   "metadata": {},
   "outputs": [
    {
     "name": "stdout",
     "output_type": "stream",
     "text": [
      "CPU times: user 23.8 s, sys: 1.23 s, total: 25 s\n",
      "Wall time: 22.6 s\n"
     ]
    }
   ],
   "source": [
    "%time ls_repr, acs_repr = get_ro_repr(ro_repr, encoder, y_test_hot, num_rounds=5)"
   ]
  },
  {
   "cell_type": "code",
   "execution_count": 168,
   "metadata": {},
   "outputs": [
    {
     "data": {
      "image/png": "[encoded data removed]",
      "text/plain": [
       "<matplotlib.figure.Figure at 0x125a6ae48>"
      ]
     },
     "metadata": {},
     "output_type": "display_data"
    }
   ],
   "source": [
    "with plt.style.context('ggplot'):\n",
    "    plt.plot(acs_in, label='input')\n",
    "    plt.plot(acs_repr, label='reprs')\n",
    "    plt.legend()\n",
    "    plt.title('MNIST')\n",
    "    plt.xlabel('Epochs')\n",
    "    plt.ylabel('Mean Accuracy (of 5)')\n",
    "    plt.savefig('data/incite/models_log/mnist/acc_5.pdf', dpi=300)\n",
    "plt.show()"
   ]
  },
  {
   "cell_type": "code",
   "execution_count": 169,
   "metadata": {},
   "outputs": [
    {
     "data": {
      "image/png": "[encoded data removed]",
      "text/plain": [
       "<matplotlib.figure.Figure at 0x12c27f9e8>"
      ]
     },
     "metadata": {},
     "output_type": "display_data"
    }
   ],
   "source": [
    "with plt.style.context('ggplot'):\n",
    "    plt.plot(ls_in, label='input')\n",
    "    plt.plot(ls_repr, label='reprs')\n",
    "    plt.legend()\n",
    "    plt.title('MNIST')\n",
    "    plt.xlabel('Epochs')\n",
    "    plt.ylabel('Loss (of 5)')\n",
    "    plt.savefig('data/incite/models_log/mnist/loss_5.pdf', dpi=300)\n",
    "plt.show()"
   ]
  },
  {
   "cell_type": "markdown",
   "metadata": {},
   "source": [
    "# Simple Autoencoder"
   ]
  },
  {
   "cell_type": "code",
   "execution_count": 3,
   "metadata": {},
   "outputs": [],
   "source": [
    "def build_autoenc(encoding_dim=32, input_shape=(784,), sparsity=10e-8):\n",
    "\n",
    "    # this is the size of our encoded representations\n",
    "    encoding_dim = encoding_dim  # 32 floats -> compression of factor 24.5, assuming the input is 784 floats\n",
    "\n",
    "    # this is our input placeholder\n",
    "    input_img = Input(shape=input_shape)\n",
    "    # \"encoded\" is the encoded representation of the input\n",
    "    encoded = Dense(encoding_dim, activation='relu', \\\n",
    "                    activity_regularizer=regularizers.l1(sparsity))(input_img)\n",
    "    # \"decoded\" is the lossy reconstruction of the input\n",
    "    decoded = Dense(input_shape[0], activation='sigmoid')(encoded)\n",
    "\n",
    "    # this model maps an input to its reconstruction\n",
    "    autoencoder = Model(input_img, decoded)\n",
    "\n",
    "    # this model maps an input to its encoded representation\n",
    "    encoder = Model(input_img, encoded)\n",
    "\n",
    "    # create a placeholder for an encoded (encoding_dim-dimensional) input\n",
    "    encoded_input = Input(shape=(encoding_dim,))\n",
    "    # retrieve the last layer of the autoencoder model\n",
    "    decoder_layer = autoencoder.layers[-1]\n",
    "    # create the decoder model\n",
    "    decoder = Model(encoded_input, decoder_layer(encoded_input))\n",
    "\n",
    "    autoencoder.compile(optimizer='adadelta', loss='binary_crossentropy')  \n",
    "\n",
    "    return autoencoder, encoder, decoder"
   ]
  },
  {
   "cell_type": "code",
   "execution_count": 16,
   "metadata": {},
   "outputs": [],
   "source": [
    "autoencoder, encoder, decoder = build_autoenc(encoding_dim=36, input_shape=(784,), sparsity=10e-6)"
   ]
  },
  {
   "cell_type": "code",
   "execution_count": 5,
   "metadata": {},
   "outputs": [],
   "source": [
    "#autoencoder.set_weights(nonreg_weights) # Used to set pretrained non-sparse weights into a regularized autoencoder."
   ]
  },
  {
   "cell_type": "code",
   "execution_count": 17,
   "metadata": {},
   "outputs": [
    {
     "name": "stdout",
     "output_type": "stream",
     "text": [
      "Train on 60000 samples, validate on 10000 samples\n",
      "Epoch 1/100\n",
      " - 5s - loss: 0.5292 - val_loss: 0.3326\n",
      "Epoch 2/100\n",
      " - 4s - loss: 0.3228 - val_loss: 0.3150\n",
      "Epoch 3/100\n",
      " - 4s - loss: 0.3110 - val_loss: 0.3072\n",
      "Epoch 4/100\n",
      " - 4s - loss: 0.3048 - val_loss: 0.3023\n",
      "Epoch 5/100\n",
      " - 4s - loss: 0.3006 - val_loss: 0.2987\n",
      "Epoch 6/100\n",
      " - 4s - loss: 0.2974 - val_loss: 0.2960\n",
      "Epoch 7/100\n",
      " - 4s - loss: 0.2949 - val_loss: 0.2937\n",
      "Epoch 8/100\n",
      " - 4s - loss: 0.2928 - val_loss: 0.2918\n",
      "Epoch 9/100\n",
      " - 4s - loss: 0.2910 - val_loss: 0.2900\n",
      "Epoch 10/100\n",
      " - 4s - loss: 0.2894 - val_loss: 0.2885\n",
      "Epoch 11/100\n",
      " - 4s - loss: 0.2880 - val_loss: 0.2872\n",
      "Epoch 12/100\n",
      " - 4s - loss: 0.2866 - val_loss: 0.2859\n",
      "Epoch 13/100\n",
      " - 4s - loss: 0.2854 - val_loss: 0.2847\n",
      "Epoch 14/100\n",
      " - 4s - loss: 0.2843 - val_loss: 0.2837\n",
      "Epoch 15/100\n",
      " - 4s - loss: 0.2832 - val_loss: 0.2826\n",
      "Epoch 16/100\n",
      " - 4s - loss: 0.2822 - val_loss: 0.2816\n",
      "Epoch 17/100\n",
      " - 4s - loss: 0.2813 - val_loss: 0.2807\n",
      "Epoch 18/100\n",
      " - 4s - loss: 0.2804 - val_loss: 0.2798\n",
      "Epoch 19/100\n",
      " - 4s - loss: 0.2795 - val_loss: 0.2791\n",
      "Epoch 20/100\n",
      " - 4s - loss: 0.2787 - val_loss: 0.2782\n",
      "Epoch 21/100\n",
      " - 4s - loss: 0.2779 - val_loss: 0.2774\n",
      "Epoch 22/100\n",
      " - 4s - loss: 0.2772 - val_loss: 0.2767\n",
      "Epoch 23/100\n",
      " - 4s - loss: 0.2765 - val_loss: 0.2761\n",
      "Epoch 24/100\n",
      " - 4s - loss: 0.2758 - val_loss: 0.2754\n",
      "Epoch 25/100\n",
      " - 5s - loss: 0.2752 - val_loss: 0.2748\n",
      "Epoch 26/100\n",
      " - 4s - loss: 0.2746 - val_loss: 0.2743\n",
      "Epoch 27/100\n",
      " - 4s - loss: 0.2740 - val_loss: 0.2737\n",
      "Epoch 28/100\n",
      " - 4s - loss: 0.2735 - val_loss: 0.2732\n",
      "Epoch 29/100\n",
      " - 4s - loss: 0.2730 - val_loss: 0.2727\n",
      "Epoch 30/100\n",
      " - 4s - loss: 0.2725 - val_loss: 0.2723\n",
      "Epoch 31/100\n",
      " - 4s - loss: 0.2721 - val_loss: 0.2718\n",
      "Epoch 32/100\n",
      " - 4s - loss: 0.2717 - val_loss: 0.2714\n",
      "Epoch 33/100\n",
      " - 4s - loss: 0.2713 - val_loss: 0.2710\n",
      "Epoch 34/100\n",
      " - 4s - loss: 0.2709 - val_loss: 0.2706\n",
      "Epoch 35/100\n",
      " - 4s - loss: 0.2705 - val_loss: 0.2703\n",
      "Epoch 36/100\n",
      " - 4s - loss: 0.2702 - val_loss: 0.2700\n",
      "Epoch 37/100\n",
      " - 4s - loss: 0.2699 - val_loss: 0.2697\n",
      "Epoch 38/100\n",
      " - 4s - loss: 0.2696 - val_loss: 0.2694\n",
      "Epoch 39/100\n",
      " - 4s - loss: 0.2693 - val_loss: 0.2691\n",
      "Epoch 40/100\n",
      " - 4s - loss: 0.2691 - val_loss: 0.2689\n",
      "Epoch 41/100\n",
      " - 6s - loss: 0.2688 - val_loss: 0.2686\n",
      "Epoch 42/100\n",
      " - 6s - loss: 0.2686 - val_loss: 0.2684\n",
      "Epoch 43/100\n",
      " - 4s - loss: 0.2684 - val_loss: 0.2682\n",
      "Epoch 44/100\n",
      " - 6s - loss: 0.2682 - val_loss: 0.2680\n",
      "Epoch 45/100\n",
      " - 6s - loss: 0.2680 - val_loss: 0.2678\n",
      "Epoch 46/100\n",
      " - 4s - loss: 0.2678 - val_loss: 0.2676\n",
      "Epoch 47/100\n",
      " - 4s - loss: 0.2676 - val_loss: 0.2674\n",
      "Epoch 48/100\n",
      " - 4s - loss: 0.2674 - val_loss: 0.2673\n",
      "Epoch 49/100\n",
      " - 4s - loss: 0.2672 - val_loss: 0.2671\n",
      "Epoch 50/100\n",
      " - 4s - loss: 0.2671 - val_loss: 0.2669\n",
      "Epoch 51/100\n",
      " - 4s - loss: 0.2669 - val_loss: 0.2668\n",
      "Epoch 52/100\n",
      " - 4s - loss: 0.2668 - val_loss: 0.2666\n",
      "Epoch 53/100\n",
      " - 4s - loss: 0.2666 - val_loss: 0.2665\n",
      "Epoch 54/100\n",
      " - 4s - loss: 0.2665 - val_loss: 0.2663\n",
      "Epoch 55/100\n",
      " - 4s - loss: 0.2663 - val_loss: 0.2662\n",
      "Epoch 56/100\n",
      " - 4s - loss: 0.2662 - val_loss: 0.2660\n",
      "Epoch 57/100\n",
      " - 4s - loss: 0.2661 - val_loss: 0.2659\n",
      "Epoch 58/100\n",
      " - 4s - loss: 0.2659 - val_loss: 0.2658\n",
      "Epoch 59/100\n",
      " - 4s - loss: 0.2658 - val_loss: 0.2657\n",
      "Epoch 60/100\n",
      " - 4s - loss: 0.2657 - val_loss: 0.2655\n",
      "Epoch 61/100\n",
      " - 4s - loss: 0.2656 - val_loss: 0.2654\n",
      "Epoch 62/100\n",
      " - 4s - loss: 0.2654 - val_loss: 0.2653\n",
      "Epoch 63/100\n",
      " - 4s - loss: 0.2653 - val_loss: 0.2652\n",
      "Epoch 64/100\n",
      " - 4s - loss: 0.2652 - val_loss: 0.2651\n",
      "Epoch 65/100\n",
      " - 4s - loss: 0.2651 - val_loss: 0.2650\n",
      "Epoch 66/100\n",
      " - 4s - loss: 0.2650 - val_loss: 0.2648\n",
      "Epoch 67/100\n",
      " - 4s - loss: 0.2649 - val_loss: 0.2648\n",
      "Epoch 68/100\n",
      " - 4s - loss: 0.2648 - val_loss: 0.2646\n",
      "Epoch 69/100\n",
      " - 4s - loss: 0.2646 - val_loss: 0.2645\n",
      "Epoch 70/100\n",
      " - 4s - loss: 0.2645 - val_loss: 0.2644\n",
      "Epoch 71/100\n",
      " - 4s - loss: 0.2644 - val_loss: 0.2643\n",
      "Epoch 72/100\n",
      " - 4s - loss: 0.2643 - val_loss: 0.2642\n",
      "Epoch 73/100\n",
      " - 4s - loss: 0.2642 - val_loss: 0.2641\n",
      "Epoch 74/100\n",
      " - 4s - loss: 0.2641 - val_loss: 0.2640\n",
      "Epoch 75/100\n",
      " - 4s - loss: 0.2640 - val_loss: 0.2639\n",
      "Epoch 76/100\n",
      " - 4s - loss: 0.2639 - val_loss: 0.2638\n",
      "Epoch 77/100\n",
      " - 4s - loss: 0.2638 - val_loss: 0.2637\n",
      "Epoch 78/100\n",
      " - 4s - loss: 0.2637 - val_loss: 0.2636\n",
      "Epoch 79/100\n",
      " - 4s - loss: 0.2636 - val_loss: 0.2635\n",
      "Epoch 80/100\n",
      " - 4s - loss: 0.2635 - val_loss: 0.2634\n",
      "Epoch 81/100\n",
      " - 4s - loss: 0.2635 - val_loss: 0.2633\n",
      "Epoch 82/100\n",
      " - 4s - loss: 0.2634 - val_loss: 0.2632\n",
      "Epoch 83/100\n",
      " - 4s - loss: 0.2633 - val_loss: 0.2631\n",
      "Epoch 84/100\n",
      " - 4s - loss: 0.2632 - val_loss: 0.2631\n",
      "Epoch 85/100\n",
      " - 4s - loss: 0.2631 - val_loss: 0.2630\n",
      "Epoch 86/100\n",
      " - 4s - loss: 0.2630 - val_loss: 0.2629\n",
      "Epoch 87/100\n",
      " - 4s - loss: 0.2629 - val_loss: 0.2628\n",
      "Epoch 88/100\n",
      " - 4s - loss: 0.2628 - val_loss: 0.2627\n",
      "Epoch 89/100\n",
      " - 4s - loss: 0.2627 - val_loss: 0.2626\n",
      "Epoch 90/100\n",
      " - 4s - loss: 0.2627 - val_loss: 0.2625\n",
      "Epoch 91/100\n",
      " - 4s - loss: 0.2626 - val_loss: 0.2624\n",
      "Epoch 92/100\n",
      " - 4s - loss: 0.2625 - val_loss: 0.2624\n",
      "Epoch 93/100\n",
      " - 4s - loss: 0.2624 - val_loss: 0.2623\n",
      "Epoch 94/100\n",
      " - 4s - loss: 0.2623 - val_loss: 0.2622\n",
      "Epoch 95/100\n",
      " - 4s - loss: 0.2623 - val_loss: 0.2621\n",
      "Epoch 96/100\n",
      " - 4s - loss: 0.2622 - val_loss: 0.2620\n",
      "Epoch 97/100\n",
      " - 4s - loss: 0.2621 - val_loss: 0.2619\n",
      "Epoch 98/100\n",
      " - 4s - loss: 0.2620 - val_loss: 0.2619\n",
      "Epoch 99/100\n",
      " - 4s - loss: 0.2619 - val_loss: 0.2618\n",
      "Epoch 100/100\n",
      " - 4s - loss: 0.2619 - val_loss: 0.2617\n"
     ]
    }
   ],
   "source": [
    "history = autoencoder.fit(x_train, x_train, \\\n",
    "                          epochs=100, \\\n",
    "                          batch_size=256, \\\n",
    "                          shuffle=True, \\\n",
    "                          validation_data=(x_test, x_test), \\\n",
    "                          verbose=2)"
   ]
  },
  {
   "cell_type": "code",
   "execution_count": 7,
   "metadata": {},
   "outputs": [
    {
     "data": {
      "image/png": "[encoded data removed]",
      "text/plain": [
       "<matplotlib.figure.Figure at 0x1280a4e80>"
      ]
     },
     "metadata": {},
     "output_type": "display_data"
    }
   ],
   "source": [
    "plt.plot(history.history['loss'])\n",
    "plt.plot(history.history['val_loss'])\n",
    "plt.title('l1-regilarized autoencoder, sparsity = 10e-7')\n",
    "plt.show()"
   ]
  },
  {
   "cell_type": "code",
   "execution_count": 8,
   "metadata": {},
   "outputs": [],
   "source": [
    "# Used to track encoded/decoded means (see tutorial) for several training conditions.\n",
    "encoded_means = []\n",
    "decoded_means = []"
   ]
  },
  {
   "cell_type": "code",
   "execution_count": 9,
   "metadata": {},
   "outputs": [],
   "source": [
    "# encode and decode some digits\n",
    "# note that we take them from the *test* set\n",
    "encoded_imgs = encoder.predict(x_test)\n",
    "encoded_means.append(encoded_imgs.mean())\n",
    "decoded_imgs = decoder.predict(encoded_imgs)\n",
    "decoded_means.append(decoded_imgs.mean())"
   ]
  },
  {
   "cell_type": "code",
   "execution_count": 10,
   "metadata": {},
   "outputs": [],
   "source": [
    "#del encoded_means[-1]\n",
    "#del decoded_means[-1]"
   ]
  },
  {
   "cell_type": "code",
   "execution_count": 10,
   "metadata": {},
   "outputs": [
    {
     "name": "stdout",
     "output_type": "stream",
     "text": [
      "[1.7421247]\n",
      "[0.13265534]\n"
     ]
    }
   ],
   "source": [
    "print(encoded_means)\n",
    "print(decoded_means)"
   ]
  },
  {
   "cell_type": "code",
   "execution_count": 11,
   "metadata": {},
   "outputs": [],
   "source": [
    "def display_model(encoder, decoder, repr_shape=(8, 4)):\n",
    "    \"\"\"Display input, reconstruction and representations.\"\"\"\n",
    "    encoded_imgs = encoder.predict(x_test)\n",
    "    decoded_imgs = decoder.predict(encoded_imgs)\n",
    "\n",
    "    n = 10  # how many digits we will display\n",
    "    plt.figure(figsize=(20, 4))\n",
    "    for i in range(n):\n",
    "        # display original\n",
    "        ax = plt.subplot(3, n, i + 1)\n",
    "        plt.imshow(x_test[i].reshape(28, 28))\n",
    "        plt.gray()\n",
    "        ax.get_xaxis().set_visible(False)\n",
    "        ax.get_yaxis().set_visible(False)\n",
    "\n",
    "        # display reconstruction\n",
    "        ax = plt.subplot(3, n, i + 1 + n)\n",
    "        plt.imshow(decoded_imgs[i].reshape(28, 28))\n",
    "        plt.gray()\n",
    "        ax.get_xaxis().set_visible(False)\n",
    "        ax.get_yaxis().set_visible(False)\n",
    "\n",
    "        # display representations\n",
    "        ax = plt.subplot(3, n, i + 1 + 2*n)\n",
    "        plt.imshow(encoded_imgs[i].reshape(repr_shape))\n",
    "        plt.gray()\n",
    "        ax.get_xaxis().set_visible(False)\n",
    "        ax.get_yaxis().set_visible(False)\n",
    "    plt.show()"
   ]
  },
  {
   "cell_type": "code",
   "execution_count": 14,
   "metadata": {},
   "outputs": [
    {
     "data": {
      "image/png": "[encoded data removed]",
      "text/plain": [
       "<matplotlib.figure.Figure at 0x1177d3da0>"
      ]
     },
     "metadata": {},
     "output_type": "display_data"
    }
   ],
   "source": [
    "display_model(encoder, decoder, repr_shape=(6, 6))"
   ]
  },
  {
   "cell_type": "code",
   "execution_count": 15,
   "metadata": {},
   "outputs": [],
   "source": [
    "autoencoder.save('data/mnist_tutorial/models_log/36_sparse_10e-7_autoencoder')\n",
    "encoder.save('data/mnist_tutorial/models_log/36_sparse_10e-7_encoder')\n",
    "decoder.save('data/mnist_tutorial/models_log/36_sparse_10e-7_decoder')"
   ]
  },
  {
   "cell_type": "code",
   "execution_count": null,
   "metadata": {},
   "outputs": [],
   "source": [
    "# Used to set pretrained non-sparse weights into a regularized autoencoder.\n",
    "#autoencoder = load_model('data/models_log/36_sparse_10e-8_autoencoder')\n",
    "#encoder = load_model('data/models_log/36_sparse_10e-8_encoder')\n",
    "#decoder = load_model('data/models_log/36_sparse_10e-8_decoder')"
   ]
  },
  {
   "cell_type": "code",
   "execution_count": null,
   "metadata": {},
   "outputs": [],
   "source": [
    "#nonreg_weights = autoencoder.get_weights()"
   ]
  },
  {
   "cell_type": "markdown",
   "metadata": {},
   "source": [
    "# Deep Autoencoder"
   ]
  },
  {
   "cell_type": "code",
   "execution_count": 9,
   "metadata": {},
   "outputs": [],
   "source": [
    "def build_deep_autoenc(encoding_dim=32, input_shape=(784,), sparsity=0):\n",
    "    input_img = Input(shape=(784,))\n",
    "    encoded_1 = Dense(encoding_dim*4, activation='relu', \\\n",
    "                      activity_regularizer=regularizers.l1(sparsity))(input_img)\n",
    "    encoded_2 = Dense(encoding_dim*2, activation='relu', \\\n",
    "                      activity_regularizer=regularizers.l1(sparsity))(encoded_1)\n",
    "    encoded_3 = Dense(encoding_dim, activation='relu', \\\n",
    "                      activity_regularizer=regularizers.l1(sparsity))(encoded_2)\n",
    "\n",
    "    # this model maps an input to its encoded representation\n",
    "    deep_encoder = Model(input_img, encoded_3)\n",
    "\n",
    "    decoded_1 = Dense(encoding_dim*2, activation='relu', \\\n",
    "                      activity_regularizer=regularizers.l1(sparsity))(encoded_3)\n",
    "    decoded_2 = Dense(encoding_dim*4, activation='relu', \\\n",
    "                      activity_regularizer=regularizers.l1(sparsity))(decoded_1)\n",
    "    decoded_3 = Dense(784, activation='sigmoid', \\\n",
    "                      activity_regularizer=regularizers.l1(sparsity))(decoded_2)\n",
    "\n",
    "    deep_autoencoder = Model(input_img, decoded_3)\n",
    "\n",
    "    deep_autoencoder.compile(optimizer='adadelta', loss='binary_crossentropy')\n",
    "    \n",
    "    return deep_autoencoder, deep_encoder"
   ]
  },
  {
   "cell_type": "code",
   "execution_count": 20,
   "metadata": {},
   "outputs": [],
   "source": [
    "def build_deep_decoder(deep_autoencoder, encoding_dim=32, sparsity=0):\n",
    "    # create a placeholder for an encoded (encoding_dim-dimensional) input\n",
    "    encoded_input = Input(shape=(encoding_dim,))\n",
    "    # retrieve the last layer of the autoencoder model\n",
    "    decoder_1 = Dense(encoding_dim*2, activation='relu', \\\n",
    "                      activity_regularizer=regularizers.l1(sparsity))(encoded_input)\n",
    "    decoder_2 = Dense(encoding_dim*4, activation='relu', \\\n",
    "                      activity_regularizer=regularizers.l1(sparsity))(decoder_1)\n",
    "    decoder_3 = Dense(784, activation='sigmoid', \\\n",
    "                      activity_regularizer=regularizers.l1(sparsity))(decoder_2)\n",
    "    # create the decoder model\n",
    "    deep_decoder = Model(encoded_input, decoder_3)\n",
    "    \n",
    "    deep_decoder.set_weights(deep_autoencoder.get_weights()[-6:])\n",
    "    \n",
    "    return deep_decoder"
   ]
  },
  {
   "cell_type": "code",
   "execution_count": 11,
   "metadata": {},
   "outputs": [],
   "source": [
    "deep_autoencoder, deep_encoder = build_deep_autoenc()"
   ]
  },
  {
   "cell_type": "code",
   "execution_count": 12,
   "metadata": {},
   "outputs": [
    {
     "name": "stdout",
     "output_type": "stream",
     "text": [
      "_________________________________________________________________\n",
      "Layer (type)                 Output Shape              Param #   \n",
      "=================================================================\n",
      "input_2 (InputLayer)         (None, 784)               0         \n",
      "_________________________________________________________________\n",
      "dense_7 (Dense)              (None, 128)               100480    \n",
      "_________________________________________________________________\n",
      "dense_8 (Dense)              (None, 64)                8256      \n",
      "_________________________________________________________________\n",
      "dense_9 (Dense)              (None, 32)                2080      \n",
      "_________________________________________________________________\n",
      "dense_10 (Dense)             (None, 64)                2112      \n",
      "_________________________________________________________________\n",
      "dense_11 (Dense)             (None, 128)               8320      \n",
      "_________________________________________________________________\n",
      "dense_12 (Dense)             (None, 784)               101136    \n",
      "=================================================================\n",
      "Total params: 222,384\n",
      "Trainable params: 222,384\n",
      "Non-trainable params: 0\n",
      "_________________________________________________________________\n"
     ]
    }
   ],
   "source": [
    "deep_autoencoder.summary()"
   ]
  },
  {
   "cell_type": "code",
   "execution_count": 13,
   "metadata": {},
   "outputs": [
    {
     "name": "stdout",
     "output_type": "stream",
     "text": [
      "Train on 60000 samples, validate on 10000 samples\n",
      "Epoch 1/100\n",
      "60000/60000 [==============================] - 6s 105us/step - loss: 0.3431 - val_loss: 0.2644\n",
      "Epoch 2/100\n",
      "60000/60000 [==============================] - 6s 105us/step - loss: 0.2597 - val_loss: 0.2558\n",
      "Epoch 3/100\n",
      "60000/60000 [==============================] - 6s 104us/step - loss: 0.2504 - val_loss: 0.2420\n",
      "Epoch 4/100\n",
      "60000/60000 [==============================] - 7s 108us/step - loss: 0.2329 - val_loss: 0.2235\n",
      "Epoch 5/100\n",
      "60000/60000 [==============================] - 6s 93us/step - loss: 0.2165 - val_loss: 0.2094\n",
      "Epoch 6/100\n",
      "60000/60000 [==============================] - 6s 93us/step - loss: 0.2074 - val_loss: 0.2041\n",
      "Epoch 7/100\n",
      "60000/60000 [==============================] - 6s 93us/step - loss: 0.1991 - val_loss: 0.1921\n",
      "Epoch 8/100\n",
      "60000/60000 [==============================] - 6s 94us/step - loss: 0.1890 - val_loss: 0.1837\n",
      "Epoch 9/100\n",
      "60000/60000 [==============================] - 6s 93us/step - loss: 0.1816 - val_loss: 0.1765\n",
      "Epoch 10/100\n",
      "60000/60000 [==============================] - 6s 93us/step - loss: 0.1751 - val_loss: 0.1697\n",
      "Epoch 11/100\n",
      "60000/60000 [==============================] - 6s 93us/step - loss: 0.1688 - val_loss: 0.1644\n",
      "Epoch 12/100\n",
      "60000/60000 [==============================] - 6s 93us/step - loss: 0.1626 - val_loss: 0.1584\n",
      "Epoch 13/100\n",
      "60000/60000 [==============================] - 6s 93us/step - loss: 0.1578 - val_loss: 0.1542\n",
      "Epoch 14/100\n",
      "60000/60000 [==============================] - 6s 94us/step - loss: 0.1541 - val_loss: 0.1508\n",
      "Epoch 15/100\n",
      "60000/60000 [==============================] - 6s 93us/step - loss: 0.1513 - val_loss: 0.1481\n",
      "Epoch 16/100\n",
      "60000/60000 [==============================] - 6s 93us/step - loss: 0.1487 - val_loss: 0.1477\n",
      "Epoch 17/100\n",
      "60000/60000 [==============================] - 6s 93us/step - loss: 0.1465 - val_loss: 0.1437\n",
      "Epoch 18/100\n",
      "60000/60000 [==============================] - 6s 93us/step - loss: 0.1445 - val_loss: 0.1417\n",
      "Epoch 19/100\n",
      "60000/60000 [==============================] - 6s 94us/step - loss: 0.1424 - val_loss: 0.1406\n",
      "Epoch 20/100\n",
      "60000/60000 [==============================] - 6s 94us/step - loss: 0.1408 - val_loss: 0.1381\n",
      "Epoch 21/100\n",
      "60000/60000 [==============================] - 6s 93us/step - loss: 0.1394 - val_loss: 0.1371\n",
      "Epoch 22/100\n",
      "60000/60000 [==============================] - 6s 93us/step - loss: 0.1383 - val_loss: 0.1357\n",
      "Epoch 23/100\n",
      "60000/60000 [==============================] - 6s 94us/step - loss: 0.1371 - val_loss: 0.1361\n",
      "Epoch 24/100\n",
      "60000/60000 [==============================] - 6s 93us/step - loss: 0.1360 - val_loss: 0.1335\n",
      "Epoch 25/100\n",
      "60000/60000 [==============================] - 6s 93us/step - loss: 0.1349 - val_loss: 0.1334\n",
      "Epoch 26/100\n",
      "60000/60000 [==============================] - 6s 98us/step - loss: 0.1339 - val_loss: 0.1319\n",
      "Epoch 27/100\n",
      "60000/60000 [==============================] - 6s 93us/step - loss: 0.1329 - val_loss: 0.1308\n",
      "Epoch 28/100\n",
      "60000/60000 [==============================] - 6s 97us/step - loss: 0.1318 - val_loss: 0.1305\n",
      "Epoch 29/100\n",
      "60000/60000 [==============================] - 6s 93us/step - loss: 0.1308 - val_loss: 0.1283\n",
      "Epoch 30/100\n",
      "60000/60000 [==============================] - 6s 93us/step - loss: 0.1298 - val_loss: 0.1274\n",
      "Epoch 31/100\n",
      "60000/60000 [==============================] - 6s 93us/step - loss: 0.1288 - val_loss: 0.1261\n",
      "Epoch 32/100\n",
      "60000/60000 [==============================] - 6s 93us/step - loss: 0.1278 - val_loss: 0.1247\n",
      "Epoch 33/100\n",
      "60000/60000 [==============================] - 6s 93us/step - loss: 0.1268 - val_loss: 0.1259\n",
      "Epoch 34/100\n",
      "60000/60000 [==============================] - 6s 93us/step - loss: 0.1259 - val_loss: 0.1233\n",
      "Epoch 35/100\n",
      "60000/60000 [==============================] - 6s 93us/step - loss: 0.1249 - val_loss: 0.1228\n",
      "Epoch 36/100\n",
      "60000/60000 [==============================] - 6s 94us/step - loss: 0.1239 - val_loss: 0.1225\n",
      "Epoch 37/100\n",
      "60000/60000 [==============================] - 6s 93us/step - loss: 0.1230 - val_loss: 0.1209\n",
      "Epoch 38/100\n",
      "60000/60000 [==============================] - 6s 93us/step - loss: 0.1223 - val_loss: 0.1197\n",
      "Epoch 39/100\n",
      "60000/60000 [==============================] - 6s 93us/step - loss: 0.1214 - val_loss: 0.1194\n",
      "Epoch 40/100\n",
      "60000/60000 [==============================] - 6s 94us/step - loss: 0.1207 - val_loss: 0.1193\n",
      "Epoch 41/100\n",
      "60000/60000 [==============================] - 6s 93us/step - loss: 0.1201 - val_loss: 0.1186\n",
      "Epoch 42/100\n",
      "60000/60000 [==============================] - 6s 94us/step - loss: 0.1196 - val_loss: 0.1182\n",
      "Epoch 43/100\n",
      "60000/60000 [==============================] - 6s 93us/step - loss: 0.1190 - val_loss: 0.1169\n",
      "Epoch 44/100\n",
      "60000/60000 [==============================] - 6s 94us/step - loss: 0.1185 - val_loss: 0.1168\n",
      "Epoch 45/100\n",
      "60000/60000 [==============================] - 6s 93us/step - loss: 0.1179 - val_loss: 0.1167\n",
      "Epoch 46/100\n",
      "60000/60000 [==============================] - 6s 93us/step - loss: 0.1174 - val_loss: 0.1162\n",
      "Epoch 47/100\n",
      "60000/60000 [==============================] - 6s 94us/step - loss: 0.1169 - val_loss: 0.1155\n",
      "Epoch 48/100\n",
      "60000/60000 [==============================] - 6s 94us/step - loss: 0.1164 - val_loss: 0.1151\n",
      "Epoch 49/100\n",
      "60000/60000 [==============================] - 6s 93us/step - loss: 0.1158 - val_loss: 0.1135\n",
      "Epoch 50/100\n",
      "60000/60000 [==============================] - 6s 93us/step - loss: 0.1153 - val_loss: 0.1147\n",
      "Epoch 51/100\n",
      "60000/60000 [==============================] - 6s 94us/step - loss: 0.1148 - val_loss: 0.1130\n",
      "Epoch 52/100\n",
      "60000/60000 [==============================] - 6s 94us/step - loss: 0.1142 - val_loss: 0.1135\n",
      "Epoch 53/100\n",
      "60000/60000 [==============================] - 7s 109us/step - loss: 0.1138 - val_loss: 0.1121\n",
      "Epoch 54/100\n",
      "60000/60000 [==============================] - 7s 117us/step - loss: 0.1132 - val_loss: 0.1130\n",
      "Epoch 55/100\n",
      "60000/60000 [==============================] - 7s 112us/step - loss: 0.1128 - val_loss: 0.1113\n",
      "Epoch 56/100\n",
      "60000/60000 [==============================] - 7s 121us/step - loss: 0.1122 - val_loss: 0.1113\n",
      "Epoch 57/100\n",
      "60000/60000 [==============================] - 7s 116us/step - loss: 0.1118 - val_loss: 0.1103\n",
      "Epoch 58/100\n",
      "60000/60000 [==============================] - 7s 119us/step - loss: 0.1114 - val_loss: 0.1093\n",
      "Epoch 59/100\n",
      "60000/60000 [==============================] - 7s 110us/step - loss: 0.1109 - val_loss: 0.1096\n",
      "Epoch 60/100\n",
      "60000/60000 [==============================] - 7s 113us/step - loss: 0.1105 - val_loss: 0.1096\n",
      "Epoch 61/100\n",
      "60000/60000 [==============================] - 7s 119us/step - loss: 0.1101 - val_loss: 0.1083\n",
      "Epoch 62/100\n",
      "60000/60000 [==============================] - 8s 127us/step - loss: 0.1097 - val_loss: 0.1094\n",
      "Epoch 63/100\n",
      "60000/60000 [==============================] - 7s 110us/step - loss: 0.1094 - val_loss: 0.1089\n",
      "Epoch 64/100\n",
      "60000/60000 [==============================] - 7s 109us/step - loss: 0.1089 - val_loss: 0.1077\n",
      "Epoch 65/100\n",
      "60000/60000 [==============================] - 6s 105us/step - loss: 0.1086 - val_loss: 0.1079\n",
      "Epoch 66/100\n",
      "60000/60000 [==============================] - 8s 130us/step - loss: 0.1081 - val_loss: 0.1063\n",
      "Epoch 67/100\n",
      "60000/60000 [==============================] - 7s 117us/step - loss: 0.1078 - val_loss: 0.1070\n",
      "Epoch 68/100\n",
      "60000/60000 [==============================] - 8s 133us/step - loss: 0.1075 - val_loss: 0.1062\n",
      "Epoch 69/100\n",
      "60000/60000 [==============================] - 8s 131us/step - loss: 0.1072 - val_loss: 0.1063\n",
      "Epoch 70/100\n",
      "60000/60000 [==============================] - 6s 102us/step - loss: 0.1068 - val_loss: 0.1059\n",
      "Epoch 71/100\n",
      "60000/60000 [==============================] - 7s 110us/step - loss: 0.1065 - val_loss: 0.1058\n",
      "Epoch 72/100\n",
      "60000/60000 [==============================] - 7s 119us/step - loss: 0.1063 - val_loss: 0.1050\n",
      "Epoch 73/100\n",
      "60000/60000 [==============================] - 7s 122us/step - loss: 0.1060 - val_loss: 0.1049\n",
      "Epoch 74/100\n",
      "60000/60000 [==============================] - 8s 134us/step - loss: 0.1056 - val_loss: 0.1041\n",
      "Epoch 75/100\n",
      "60000/60000 [==============================] - 7s 110us/step - loss: 0.1053 - val_loss: 0.1041\n",
      "Epoch 76/100\n",
      "60000/60000 [==============================] - 7s 121us/step - loss: 0.1051 - val_loss: 0.1035\n"
     ]
    },
    {
     "name": "stdout",
     "output_type": "stream",
     "text": [
      "Epoch 77/100\n",
      "60000/60000 [==============================] - 7s 113us/step - loss: 0.1048 - val_loss: 0.1035\n",
      "Epoch 78/100\n",
      "60000/60000 [==============================] - 7s 119us/step - loss: 0.1047 - val_loss: 0.1047\n",
      "Epoch 79/100\n",
      "60000/60000 [==============================] - 7s 120us/step - loss: 0.1044 - val_loss: 0.1042\n",
      "Epoch 80/100\n",
      "60000/60000 [==============================] - 7s 119us/step - loss: 0.1043 - val_loss: 0.1031\n",
      "Epoch 81/100\n",
      "60000/60000 [==============================] - 7s 118us/step - loss: 0.1040 - val_loss: 0.1029\n",
      "Epoch 82/100\n",
      "60000/60000 [==============================] - 6s 105us/step - loss: 0.1038 - val_loss: 0.1017\n",
      "Epoch 83/100\n",
      "60000/60000 [==============================] - 7s 117us/step - loss: 0.1036 - val_loss: 0.1020\n",
      "Epoch 84/100\n",
      "60000/60000 [==============================] - 8s 130us/step - loss: 0.1034 - val_loss: 0.1033\n",
      "Epoch 85/100\n",
      "60000/60000 [==============================] - 7s 123us/step - loss: 0.1031 - val_loss: 0.1020\n",
      "Epoch 86/100\n",
      "60000/60000 [==============================] - 6s 108us/step - loss: 0.1030 - val_loss: 0.1020\n",
      "Epoch 87/100\n",
      "60000/60000 [==============================] - 6s 106us/step - loss: 0.1028 - val_loss: 0.1020\n",
      "Epoch 88/100\n",
      "60000/60000 [==============================] - 6s 106us/step - loss: 0.1027 - val_loss: 0.1010\n",
      "Epoch 89/100\n",
      "60000/60000 [==============================] - 7s 110us/step - loss: 0.1025 - val_loss: 0.1017\n",
      "Epoch 90/100\n",
      "60000/60000 [==============================] - 6s 107us/step - loss: 0.1022 - val_loss: 0.1013\n",
      "Epoch 91/100\n",
      "60000/60000 [==============================] - 6s 108us/step - loss: 0.1022 - val_loss: 0.1010\n",
      "Epoch 92/100\n",
      "60000/60000 [==============================] - 7s 111us/step - loss: 0.1020 - val_loss: 0.1014\n",
      "Epoch 93/100\n",
      "60000/60000 [==============================] - 9s 145us/step - loss: 0.1020 - val_loss: 0.1000\n",
      "Epoch 94/100\n",
      "60000/60000 [==============================] - 9s 143us/step - loss: 0.1016 - val_loss: 0.1003\n",
      "Epoch 95/100\n",
      "60000/60000 [==============================] - 7s 112us/step - loss: 0.1015 - val_loss: 0.1000\n",
      "Epoch 96/100\n",
      "60000/60000 [==============================] - 7s 111us/step - loss: 0.1014 - val_loss: 0.1002\n",
      "Epoch 97/100\n",
      "60000/60000 [==============================] - 7s 121us/step - loss: 0.1011 - val_loss: 0.1002\n",
      "Epoch 98/100\n",
      "60000/60000 [==============================] - 7s 110us/step - loss: 0.1009 - val_loss: 0.0993\n",
      "Epoch 99/100\n",
      "60000/60000 [==============================] - 7s 123us/step - loss: 0.1008 - val_loss: 0.1006\n",
      "Epoch 100/100\n",
      "60000/60000 [==============================] - 7s 118us/step - loss: 0.1007 - val_loss: 0.1002\n"
     ]
    }
   ],
   "source": [
    "history_deep = deep_autoencoder.fit(x_train, x_train, \\\n",
    "                                    epochs=100, \\\n",
    "                                    batch_size=256, \\\n",
    "                                    shuffle=True, \\\n",
    "                                    validation_data=(x_test, x_test), \\\n",
    "                                    #callbacks=[TensorBoard(log_dir='/tmp/autoencoder/deep')])"
   ]
  },
  {
   "cell_type": "code",
   "execution_count": 14,
   "metadata": {},
   "outputs": [
    {
     "data": {
      "image/png": "[encoded data removed]",
      "text/plain": [
       "<matplotlib.figure.Figure at 0x1290ee2e8>"
      ]
     },
     "metadata": {},
     "output_type": "display_data"
    }
   ],
   "source": [
    "plt.plot(history_deep.history['loss'])\n",
    "plt.plot(history_deep.history['val_loss'])\n",
    "plt.title('l1-regilarized deep autoencoder, sparsity = 10e-8')\n",
    "plt.show()"
   ]
  },
  {
   "cell_type": "code",
   "execution_count": 21,
   "metadata": {},
   "outputs": [],
   "source": [
    "deep_decoder = build_deep_decoder(deep_autoencoder)"
   ]
  },
  {
   "cell_type": "code",
   "execution_count": 25,
   "metadata": {},
   "outputs": [
    {
     "data": {
      "image/png": "[encoded data removed]",
      "text/plain": [
       "<matplotlib.figure.Figure at 0x129272cf8>"
      ]
     },
     "metadata": {},
     "output_type": "display_data"
    }
   ],
   "source": [
    "display_model(deep_encoder, deep_decoder, repr_shape=(8, 4))"
   ]
  },
  {
   "cell_type": "code",
   "execution_count": 27,
   "metadata": {},
   "outputs": [],
   "source": [
    "deep_autoencoder.save('data/mnist_tutorial/models_log/32_deep_autoencoder')\n",
    "deep_encoder.save('data/mnist_tutorial/models_log/32_deep_encoder')\n",
    "deep_decoder.save('data/mnist_tutorial/models_log/32_deep_decoder')"
   ]
  },
  {
   "cell_type": "markdown",
   "metadata": {},
   "source": [
    "# Convolutional Autoencoder"
   ]
  },
  {
   "cell_type": "code",
   "execution_count": 33,
   "metadata": {},
   "outputs": [],
   "source": [
    "def build_conv_autoenc():\n",
    "    input_img = Input(shape=(28, 28, 1))  # adapt this if using `channels_first` image data format\n",
    "\n",
    "    x = Conv2D(16, (3, 3), activation='relu', padding='same')(input_img)\n",
    "    x = MaxPooling2D((2, 2), padding='same')(x)\n",
    "    x = Conv2D(8, (3, 3), activation='relu', padding='same')(x)\n",
    "    x = MaxPooling2D((2, 2), padding='same')(x)\n",
    "    x = Conv2D(8, (3, 3), activation='relu', padding='same')(x)\n",
    "    encoded = MaxPooling2D((2, 2), padding='same')(x)\n",
    "\n",
    "    # at this point the representation is (4, 4, 8) i.e. 128-dimensional\n",
    "\n",
    "    # this model maps an input to its encoded representation\n",
    "    conv_encoder = Model(input_img, encoded)\n",
    "\n",
    "    x = Conv2D(8, (3, 3), activation='relu', padding='same')(encoded)\n",
    "    x = UpSampling2D((2, 2))(x)\n",
    "    x = Conv2D(8, (3, 3), activation='relu', padding='same')(x)\n",
    "    x = UpSampling2D((2, 2))(x)\n",
    "    x = Conv2D(16, (3, 3), activation='relu')(x)\n",
    "    x = UpSampling2D((2, 2))(x)\n",
    "    decoded = Conv2D(1, (3, 3), activation='sigmoid', padding='same')(x)\n",
    "\n",
    "    conv_autoencoder = Model(input_img, decoded)\n",
    "\n",
    "    conv_autoencoder.compile(optimizer='adadelta', loss='binary_crossentropy')\n",
    "    \n",
    "    return conv_autoencoder, conv_encoder"
   ]
  },
  {
   "cell_type": "code",
   "execution_count": 40,
   "metadata": {},
   "outputs": [],
   "source": [
    "def build_conv_decoder(conv_autoencoder):\n",
    "    # create a placeholder for an encoded (encoding_dim-dimensional) input\n",
    "    encoded_input = Input(shape=(4, 4, 8))\n",
    "    # retrieve the last layer of the autoencoder model\n",
    "    x = Conv2D(8, (3, 3), activation='relu', padding='same')(encoded_input)\n",
    "    x = UpSampling2D((2, 2))(x)\n",
    "    x = Conv2D(8, (3, 3), activation='relu', padding='same')(x)\n",
    "    x = UpSampling2D((2, 2))(x)\n",
    "    x = Conv2D(16, (3, 3), activation='relu')(x)\n",
    "    x = UpSampling2D((2, 2))(x)\n",
    "    decoded = Conv2D(1, (3, 3), activation='sigmoid', padding='same')(x)\n",
    "    # create the decoder model\n",
    "    conv_decoder = Model(encoded_input, decoded)\n",
    "    \n",
    "    conv_decoder.set_weights(conv_autoencoder.get_weights()[-6:])\n",
    "    \n",
    "    return conv_decoder"
   ]
  },
  {
   "cell_type": "code",
   "execution_count": 34,
   "metadata": {},
   "outputs": [],
   "source": [
    "conv_autoencoder, conv_encoder = build_conv_autoenc()"
   ]
  },
  {
   "cell_type": "code",
   "execution_count": 36,
   "metadata": {},
   "outputs": [],
   "source": [
    "(x_train, _), (x_test, _) = mnist.load_data()\n",
    "\n",
    "x_train = x_train.astype('float32') / 255.\n",
    "x_test = x_test.astype('float32') / 255.\n",
    "x_train = np.reshape(x_train, (len(x_train), 28, 28, 1))  # adapt this if using `channels_first` image data format\n",
    "x_test = np.reshape(x_test, (len(x_test), 28, 28, 1))  # adapt this if using `channels_first` image data format"
   ]
  },
  {
   "cell_type": "code",
   "execution_count": 37,
   "metadata": {},
   "outputs": [
    {
     "name": "stdout",
     "output_type": "stream",
     "text": [
      "Train on 60000 samples, validate on 10000 samples\n",
      "Epoch 1/50\n",
      "60000/60000 [==============================] - 108s 2ms/step - loss: 0.2443 - val_loss: 0.1850\n",
      "Epoch 2/50\n",
      "60000/60000 [==============================] - 100s 2ms/step - loss: 0.1694 - val_loss: 0.1558\n",
      "Epoch 3/50\n",
      "60000/60000 [==============================] - 96s 2ms/step - loss: 0.1547 - val_loss: 0.1487\n",
      "Epoch 4/50\n",
      "60000/60000 [==============================] - 94s 2ms/step - loss: 0.1452 - val_loss: 0.1365\n",
      "Epoch 5/50\n",
      "60000/60000 [==============================] - 88s 1ms/step - loss: 0.1383 - val_loss: 0.1373\n",
      "Epoch 6/50\n",
      "60000/60000 [==============================] - 87s 1ms/step - loss: 0.1335 - val_loss: 0.1294\n",
      "Epoch 7/50\n",
      "60000/60000 [==============================] - 101s 2ms/step - loss: 0.1297 - val_loss: 0.1269\n",
      "Epoch 8/50\n",
      "60000/60000 [==============================] - 97s 2ms/step - loss: 0.1264 - val_loss: 0.1240\n",
      "Epoch 9/50\n",
      "60000/60000 [==============================] - 99s 2ms/step - loss: 0.1235 - val_loss: 0.1212\n",
      "Epoch 10/50\n",
      "60000/60000 [==============================] - 99s 2ms/step - loss: 0.1212 - val_loss: 0.1176\n",
      "Epoch 11/50\n",
      "60000/60000 [==============================] - 95s 2ms/step - loss: 0.1193 - val_loss: 0.1179\n",
      "Epoch 12/50\n",
      "60000/60000 [==============================] - 93s 2ms/step - loss: 0.1175 - val_loss: 0.1188\n",
      "Epoch 13/50\n",
      "60000/60000 [==============================] - 93s 2ms/step - loss: 0.1161 - val_loss: 0.1152\n",
      "Epoch 14/50\n",
      "60000/60000 [==============================] - 94s 2ms/step - loss: 0.1147 - val_loss: 0.1129\n",
      "Epoch 15/50\n",
      "60000/60000 [==============================] - 94s 2ms/step - loss: 0.1141 - val_loss: 0.1115\n",
      "Epoch 16/50\n",
      "60000/60000 [==============================] - 93s 2ms/step - loss: 0.1135 - val_loss: 0.1138\n",
      "Epoch 17/50\n",
      "60000/60000 [==============================] - 94s 2ms/step - loss: 0.1125 - val_loss: 0.1137\n",
      "Epoch 18/50\n",
      "60000/60000 [==============================] - 94s 2ms/step - loss: 0.1112 - val_loss: 0.1102\n",
      "Epoch 19/50\n",
      "60000/60000 [==============================] - 94s 2ms/step - loss: 0.1107 - val_loss: 0.1083\n",
      "Epoch 20/50\n",
      "60000/60000 [==============================] - 94s 2ms/step - loss: 0.1102 - val_loss: 0.1092\n",
      "Epoch 21/50\n",
      "60000/60000 [==============================] - 94s 2ms/step - loss: 0.1099 - val_loss: 0.1079\n",
      "Epoch 22/50\n",
      "60000/60000 [==============================] - 92s 2ms/step - loss: 0.1095 - val_loss: 0.1079\n",
      "Epoch 23/50\n",
      "60000/60000 [==============================] - 92s 2ms/step - loss: 0.1087 - val_loss: 0.1077\n",
      "Epoch 24/50\n",
      "60000/60000 [==============================] - 93s 2ms/step - loss: 0.1081 - val_loss: 0.1081\n",
      "Epoch 25/50\n",
      "60000/60000 [==============================] - 94s 2ms/step - loss: 0.1074 - val_loss: 0.1056\n",
      "Epoch 26/50\n",
      "60000/60000 [==============================] - 99s 2ms/step - loss: 0.1070 - val_loss: 0.1060\n",
      "Epoch 27/50\n",
      "60000/60000 [==============================] - 98s 2ms/step - loss: 0.1066 - val_loss: 0.1043\n",
      "Epoch 28/50\n",
      "60000/60000 [==============================] - 101s 2ms/step - loss: 0.1064 - val_loss: 0.1063\n",
      "Epoch 29/50\n",
      "60000/60000 [==============================] - 97s 2ms/step - loss: 0.1062 - val_loss: 0.1062\n",
      "Epoch 30/50\n",
      "60000/60000 [==============================] - 99s 2ms/step - loss: 0.1056 - val_loss: 0.1052\n",
      "Epoch 31/50\n",
      "60000/60000 [==============================] - 96s 2ms/step - loss: 0.1055 - val_loss: 0.1034\n",
      "Epoch 32/50\n",
      "60000/60000 [==============================] - 96s 2ms/step - loss: 0.1050 - val_loss: 0.1025\n",
      "Epoch 33/50\n",
      "60000/60000 [==============================] - 95s 2ms/step - loss: 0.1048 - val_loss: 0.1026\n",
      "Epoch 34/50\n",
      "60000/60000 [==============================] - 99s 2ms/step - loss: 0.1046 - val_loss: 0.1022\n",
      "Epoch 35/50\n",
      "60000/60000 [==============================] - 89s 1ms/step - loss: 0.1044 - val_loss: 0.1016\n",
      "Epoch 36/50\n",
      "60000/60000 [==============================] - 91s 2ms/step - loss: 0.1037 - val_loss: 0.1025\n",
      "Epoch 37/50\n",
      "60000/60000 [==============================] - 96s 2ms/step - loss: 0.1034 - val_loss: 0.1009\n",
      "Epoch 38/50\n",
      "60000/60000 [==============================] - 97s 2ms/step - loss: 0.1034 - val_loss: 0.1020\n",
      "Epoch 39/50\n",
      "60000/60000 [==============================] - 98s 2ms/step - loss: 0.1031 - val_loss: 0.1007\n",
      "Epoch 40/50\n",
      "60000/60000 [==============================] - 104s 2ms/step - loss: 0.1027 - val_loss: 0.0999\n",
      "Epoch 41/50\n",
      "60000/60000 [==============================] - 102s 2ms/step - loss: 0.1021 - val_loss: 0.1022\n",
      "Epoch 42/50\n",
      "60000/60000 [==============================] - 97s 2ms/step - loss: 0.1024 - val_loss: 0.1007\n",
      "Epoch 43/50\n",
      "60000/60000 [==============================] - 97s 2ms/step - loss: 0.1023 - val_loss: 0.1012\n",
      "Epoch 44/50\n",
      "60000/60000 [==============================] - 95s 2ms/step - loss: 0.1020 - val_loss: 0.1030\n",
      "Epoch 45/50\n",
      "60000/60000 [==============================] - 99s 2ms/step - loss: 0.1020 - val_loss: 0.1021\n",
      "Epoch 46/50\n",
      "60000/60000 [==============================] - 102s 2ms/step - loss: 0.1017 - val_loss: 0.0990\n",
      "Epoch 47/50\n",
      "60000/60000 [==============================] - 98s 2ms/step - loss: 0.1015 - val_loss: 0.0994\n",
      "Epoch 48/50\n",
      "60000/60000 [==============================] - 101s 2ms/step - loss: 0.1011 - val_loss: 0.0991\n",
      "Epoch 49/50\n",
      "60000/60000 [==============================] - 99s 2ms/step - loss: 0.1010 - val_loss: 0.1006\n",
      "Epoch 50/50\n",
      "60000/60000 [==============================] - 96s 2ms/step - loss: 0.1008 - val_loss: 0.0984\n"
     ]
    }
   ],
   "source": [
    "history_conv = conv_autoencoder.fit(x_train, x_train,\n",
    "                                    epochs=50,\n",
    "                                    batch_size=128,\n",
    "                                    shuffle=True,\n",
    "                                    validation_data=(x_test, x_test),\n",
    "                                    #callbacks=[TensorBoard(log_dir='/tmp/autoencoder/conv')])"
   ]
  },
  {
   "cell_type": "code",
   "execution_count": 38,
   "metadata": {
    "scrolled": true
   },
   "outputs": [
    {
     "data": {
      "image/png": "[encoded data removed]",
      "text/plain": [
       "<matplotlib.figure.Figure at 0x115b479b0>"
      ]
     },
     "metadata": {},
     "output_type": "display_data"
    }
   ],
   "source": [
    "plt.plot(history_conv.history['loss'])\n",
    "plt.plot(history_conv.history['val_loss'])\n",
    "plt.title('conv autoencoder')\n",
    "plt.show()"
   ]
  },
  {
   "cell_type": "code",
   "execution_count": 47,
   "metadata": {},
   "outputs": [],
   "source": [
    "encoded_imgs = conv_encoder.predict(x_test)\n",
    "decoded_imgs = conv_autoencoder.predict(x_test)"
   ]
  },
  {
   "cell_type": "code",
   "execution_count": 48,
   "metadata": {},
   "outputs": [
    {
     "data": {
      "image/png": "[encoded data removed]",
      "text/plain": [
       "<matplotlib.figure.Figure at 0x12bd398d0>"
      ]
     },
     "metadata": {},
     "output_type": "display_data"
    }
   ],
   "source": [
    "n = 10\n",
    "plt.figure(figsize=(20, 8))\n",
    "for i in range(n):\n",
    "    # display original\n",
    "    ax = plt.subplot(3, n, i + 1)\n",
    "    plt.imshow(x_test[i].reshape(28, 28))\n",
    "    plt.gray()\n",
    "    ax.get_xaxis().set_visible(False)\n",
    "    ax.get_yaxis().set_visible(False)\n",
    "\n",
    "    # display reconstruction\n",
    "    ax = plt.subplot(3, n, i + 1 + n)\n",
    "    plt.imshow(decoded_imgs[i].reshape(28, 28))\n",
    "    plt.gray()\n",
    "    ax.get_xaxis().set_visible(False)\n",
    "    ax.get_yaxis().set_visible(False)\n",
    "    \n",
    "    ax = plt.subplot(3, n, i + 1 + 2*n)\n",
    "    plt.imshow(encoded_imgs[i].reshape(4, 4 * 8).T)\n",
    "    plt.gray()\n",
    "    ax.get_xaxis().set_visible(False)\n",
    "    ax.get_yaxis().set_visible(False)\n",
    "plt.show()"
   ]
  },
  {
   "cell_type": "markdown",
   "metadata": {},
   "source": [
    "# Denoising autoencoder"
   ]
  },
  {
   "cell_type": "code",
   "execution_count": 49,
   "metadata": {},
   "outputs": [],
   "source": [
    "(x_train, _), (x_test, _) = mnist.load_data()\n",
    "\n",
    "x_train = x_train.astype('float32') / 255.\n",
    "x_test = x_test.astype('float32') / 255.\n",
    "x_train = np.reshape(x_train, (len(x_train), 28, 28, 1))  # adapt this if using `channels_first` image data format\n",
    "x_test = np.reshape(x_test, (len(x_test), 28, 28, 1))  # adapt this if using `channels_first` image data format\n",
    "\n",
    "noise_factor = 0.5\n",
    "x_train_noisy = x_train + noise_factor * np.random.normal(loc=0.0, scale=1.0, size=x_train.shape) \n",
    "x_test_noisy = x_test + noise_factor * np.random.normal(loc=0.0, scale=1.0, size=x_test.shape) \n",
    "\n",
    "x_train_noisy = np.clip(x_train_noisy, 0., 1.)\n",
    "x_test_noisy = np.clip(x_test_noisy, 0., 1.)"
   ]
  },
  {
   "cell_type": "code",
   "execution_count": 53,
   "metadata": {},
   "outputs": [
    {
     "data": {
      "image/png": "[encoded data removed]",
      "text/plain": [
       "<matplotlib.figure.Figure at 0x12b78e4a8>"
      ]
     },
     "metadata": {},
     "output_type": "display_data"
    }
   ],
   "source": [
    "n = 10\n",
    "plt.figure(figsize=(20, 2))\n",
    "for i in range(n):\n",
    "    ax = plt.subplot(1, n, i + 1)\n",
    "    plt.imshow(x_test_noisy[i].reshape(28, 28))\n",
    "    plt.gray()\n",
    "    ax.get_xaxis().set_visible(False)\n",
    "    ax.get_yaxis().set_visible(False)\n",
    "plt.show()"
   ]
  },
  {
   "cell_type": "code",
   "execution_count": 55,
   "metadata": {},
   "outputs": [],
   "source": [
    "def build_deniois_autoenc():\n",
    "    input_img = Input(shape=(28, 28, 1))  # adapt this if using `channels_first` image data format\n",
    "\n",
    "    x = Conv2D(32, (3, 3), activation='relu', padding='same')(input_img)\n",
    "    x = MaxPooling2D((2, 2), padding='same')(x)\n",
    "    x = Conv2D(32, (3, 3), activation='relu', padding='same')(x)\n",
    "    encoded = MaxPooling2D((2, 2), padding='same')(x)\n",
    "    \n",
    "    denois_encoder = Model(input_img, encoded)\n",
    "\n",
    "    # at this point the representation is (7, 7, 32)\n",
    "\n",
    "    x = Conv2D(32, (3, 3), activation='relu', padding='same')(encoded)\n",
    "    x = UpSampling2D((2, 2))(x)\n",
    "    x = Conv2D(32, (3, 3), activation='relu', padding='same')(x)\n",
    "    x = UpSampling2D((2, 2))(x)\n",
    "    decoded = Conv2D(1, (3, 3), activation='sigmoid', padding='same')(x)\n",
    "\n",
    "    denois_autoencoder = Model(input_img, decoded)\n",
    "    denois_autoencoder.compile(optimizer='adadelta', loss='binary_crossentropy')\n",
    "    \n",
    "    return denois_autoencoder, denois_encoder"
   ]
  },
  {
   "cell_type": "code",
   "execution_count": 56,
   "metadata": {},
   "outputs": [],
   "source": [
    "denois_autoencoder, denois_encoder = build_deniois_autoenc()"
   ]
  },
  {
   "cell_type": "code",
   "execution_count": null,
   "metadata": {},
   "outputs": [],
   "source": [
    "history_denois = denois_autoencoder.fit(x_train_noisy, x_train,\n",
    "                                        epochs=100,\n",
    "                                        batch_size=128,\n",
    "                                        shuffle=True,\n",
    "                                        validation_data=(x_test_noisy, x_test),\n",
    "                                        callbacks=[TensorBoard(log_dir='/tmp/autoencoder/denois',\n",
    "                                                               histogram_freq=0,\n",
    "                                                               write_graph=False)])"
   ]
  },
  {
   "cell_type": "code",
   "execution_count": null,
   "metadata": {},
   "outputs": [],
   "source": [
    "plt.plot(history_denois.history['loss'])\n",
    "plt.plot(history_denois.history['val_loss'])\n",
    "plt.title('denois autoencoder')\n",
    "plt.show()"
   ]
  }
 ],
 "metadata": {
  "kernelspec": {
   "display_name": "Python 3",
   "language": "python",
   "name": "python3"
  },
  "language_info": {
   "codemirror_mode": {
    "name": "ipython",
    "version": 3
   },
   "file_extension": ".py",
   "mimetype": "text/x-python",
   "name": "python",
   "nbconvert_exporter": "python",
   "pygments_lexer": "ipython3",
   "version": "3.6.8"
  }
 },
 "nbformat": 4,
 "nbformat_minor": 2
}
