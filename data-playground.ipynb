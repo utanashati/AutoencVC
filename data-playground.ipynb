{
 "cells": [
  {
   "cell_type": "markdown",
   "metadata": {},
   "source": [
    "## Table Of Contents:\n",
    "1. [Data Preprocessing](#1)\n",
    "    * [Friday, October 5](#oct5)\n",
    "    * [Tuesday, October 9](#oct9)"
   ]
  },
  {
   "cell_type": "markdown",
   "metadata": {},
   "source": [
    "# Data Preprocessing <a class=\"anchor\" id=\"1\"></a>\n",
    "### Friday, October 5  <a class=\"anchor\" id=\"oct5\"></a>\n",
    "\n",
    "> Please find attached an exemplar input file for the simulations we are running.\n",
    "\n",
    "> I also attached a dictionary with the X and Z coordinate of each innervating fiber.\n",
    "\n",
    "> Stimuli are presented every 200 ms."
   ]
  },
  {
   "cell_type": "code",
   "execution_count": 1,
   "metadata": {},
   "outputs": [],
   "source": [
    "import pickle as pkl\n",
    "import matplotlib.pyplot as plt\n",
    "import matplotlib.animation as animation\n",
    "import numpy as np\n",
    "np.set_printoptions(suppress=True)"
   ]
  },
  {
   "cell_type": "code",
   "execution_count": 2,
   "metadata": {},
   "outputs": [],
   "source": [
    "with open('data/input/proj_xz.pkl', 'rb') as f:\n",
    "    xz = pkl.load(f, encoding='latin1')"
   ]
  },
  {
   "cell_type": "code",
   "execution_count": 3,
   "metadata": {},
   "outputs": [],
   "source": [
    "xz_array = np.zeros((1, 2))\n",
    "keys = []\n",
    "for key in xz:\n",
    "    keys.append(key)\n",
    "    xz_array = np.concatenate((xz_array, xz[key].reshape((1, 2))), axis=0)\n",
    "keys = np.array(keys).reshape(-1, 1)\n",
    "xz_array = np.concatenate((keys, xz_array[1:]), axis=1)"
   ]
  },
  {
   "cell_type": "code",
   "execution_count": 4,
   "metadata": {},
   "outputs": [
    {
     "data": {
      "text/plain": [
       "array([[ 221184.   ,     489.488,     591.93 ],\n",
       "       [ 221185.   ,     206.701,     563.71 ],\n",
       "       [ 221186.   ,     319.906,     457.568],\n",
       "       ..., \n",
       "       [ 221181.   ,     250.45 ,     495.846],\n",
       "       [ 221182.   ,     479.566,     650.127],\n",
       "       [ 221183.   ,     391.449,     464.526]])"
      ]
     },
     "execution_count": 4,
     "metadata": {},
     "output_type": "execute_result"
    }
   ],
   "source": [
    "xz_array"
   ]
  },
  {
   "cell_type": "code",
   "execution_count": 5,
   "metadata": {},
   "outputs": [
    {
     "data": {
      "image/png": "[encoded data removed]",
      "text/plain": [
       "<matplotlib.figure.Figure at 0x10c47d6d8>"
      ]
     },
     "metadata": {},
     "output_type": "display_data"
    }
   ],
   "source": [
    "plt.scatter(xz_array[:, 1], xz_array[:, 2])\n",
    "plt.show()"
   ]
  },
  {
   "cell_type": "markdown",
   "metadata": {},
   "source": [
    "### Tuesday, October 9  <a class=\"anchor\" id=\"oct9\"></a>\n",
    "- `\"input.dat\"` contains spiking times paired with GIDs (global IDs)\n",
    "- Patterns go in 200 ms packs\n",
    "- To make pictures, add up activities over each 200 ms"
   ]
  },
  {
   "cell_type": "code",
   "execution_count": 6,
   "metadata": {},
   "outputs": [],
   "source": [
    "input_ = np.loadtxt('data/input/input.dat', skiprows=1)\n",
    "input_ = np.flip(input_, axis=1)"
   ]
  },
  {
   "cell_type": "code",
   "execution_count": 7,
   "metadata": {},
   "outputs": [
    {
     "name": "stdout",
     "output_type": "stream",
     "text": [
      "[[ 221184.          1200.406006]\n",
      " [ 221184.          1801.768311]\n",
      " [ 221184.          1864.717529]\n",
      " ..., \n",
      " [ 221183.         26553.761719]\n",
      " [ 221183.         27957.466797]\n",
      " [ 221183.         29371.466797]]\n",
      "(77654, 2)\n"
     ]
    }
   ],
   "source": [
    "print(input_)\n",
    "print(input_.shape)"
   ]
  },
  {
   "cell_type": "code",
   "execution_count": 8,
   "metadata": {},
   "outputs": [
    {
     "name": "stdout",
     "output_type": "stream",
     "text": [
      "Avg fibres per spike time: 21.685004188774087\n"
     ]
    }
   ],
   "source": [
    "print(\"Avg fibres per spike time: {}\".format(input_.shape[0] / np.unique(input_[:, 1]).shape[0]))"
   ]
  },
  {
   "cell_type": "code",
   "execution_count": 9,
   "metadata": {},
   "outputs": [],
   "source": [
    "# Take all GIDs for each unique spike time.\n",
    "times = np.unique(input_[:, 1])\n",
    "times_ids = [input_[:, 0][np.argwhere(input_ == i)[:, 0]] for i in times]"
   ]
  },
  {
   "cell_type": "code",
   "execution_count": 10,
   "metadata": {},
   "outputs": [
    {
     "data": {
      "text/plain": [
       "array([ 220747.,  220750.,  220756.,  220762.,  220765.,  220773.,\n",
       "        220774.,  220778.,  220781.,  220786.,  220788.,  220796.,\n",
       "        220801.,  220806.,  220808.,  220809.,  220821.,  220826.,\n",
       "        220828.,  220837.,  220849.,  220862.,  220873.,  220898.])"
      ]
     },
     "execution_count": 10,
     "metadata": {},
     "output_type": "execute_result"
    }
   ],
   "source": [
    "times_ids[0]"
   ]
  },
  {
   "cell_type": "code",
   "execution_count": 11,
   "metadata": {
    "scrolled": false
   },
   "outputs": [],
   "source": [
    "# Translate GIDs into coordinates for each spike time.\n",
    "times_xz = []\n",
    "for ids in times_ids:\n",
    "    a = [xz_array[np.argwhere(xz_array == id_)[:, 0], :] for id_ in ids]\n",
    "    times_xz.append(np.concatenate(a))"
   ]
  },
  {
   "cell_type": "code",
   "execution_count": 12,
   "metadata": {},
   "outputs": [
    {
     "data": {
      "image/png": "[encoded data removed]",
      "text/plain": [
       "<matplotlib.figure.Figure at 0x10c3ca390>"
      ]
     },
     "metadata": {},
     "output_type": "display_data"
    }
   ],
   "source": [
    "plt.scatter(xz_array[:, 1], xz_array[:, 2])\n",
    "plt.scatter(times_xz[0][:, 1], times_xz[0][:, 2])\n",
    "plt.show()"
   ]
  },
  {
   "cell_type": "code",
   "execution_count": 13,
   "metadata": {},
   "outputs": [],
   "source": [
    "# Bin spike times into 200 ms intervals.\n",
    "batches_200 = []\n",
    "batch_num = 0\n",
    "i_start = 0\n",
    "for i, time in enumerate(times):\n",
    "    num = int(time // 200)\n",
    "    if num > batch_num:\n",
    "        batch_num = num\n",
    "        batches_200.append(slice(i_start, i))\n",
    "        i_start = i"
   ]
  },
  {
   "cell_type": "code",
   "execution_count": 14,
   "metadata": {},
   "outputs": [],
   "source": [
    "# Make an animation representing all 200 ms batches.\n",
    "fig, ax = plt.subplots()\n",
    "ax.scatter(xz_array[:, 1], xz_array[:, 2])\n",
    "ln, = ax.plot([], [], 'ro', animated=True)\n",
    "\n",
    "def update(frame):\n",
    "    xz = np.vstack(times_xz[batches_200[frame]])\n",
    "    ln.set_data(xz[:, 1], xz[:, 2])\n",
    "    return ln,\n",
    "\n",
    "ani = animation.FuncAnimation(fig, update, frames=len(batches_200),\\\n",
    "                              interval=200, blit=True)\n",
    "ani.save(\"batches_200.mp4\")"
   ]
  },
  {
   "cell_type": "code",
   "execution_count": null,
   "metadata": {},
   "outputs": [],
   "source": []
  }
 ],
 "metadata": {
  "kernelspec": {
   "display_name": "Python 3",
   "language": "python",
   "name": "python3"
  },
  "language_info": {
   "codemirror_mode": {
    "name": "ipython",
    "version": 3
   },
   "file_extension": ".py",
   "mimetype": "text/x-python",
   "name": "python",
   "nbconvert_exporter": "python",
   "pygments_lexer": "ipython3",
   "version": "3.6.3"
  }
 },
 "nbformat": 4,
 "nbformat_minor": 2
}
