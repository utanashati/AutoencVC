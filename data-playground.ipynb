{
 "cells": [
  {
   "cell_type": "markdown",
   "metadata": {},
   "source": [
    "## Table Of Contents:\n",
    "- [*Friday, October 5*](#oct5)\n",
    "- [**Data Preprocessing**](#1)\n",
    "- [Import 1](#import1)\n",
    "\n",
    "\n",
    "- [*Tuesday, October 9*](#oct9)\n",
    "- [200 ms batches vs `stim_train`](#200-ms-vs-stim)\n",
    "\n",
    "\n",
    "- [*Wednesday, October 10*](#oct10)\n",
    "- [**Autoencoder**](#autoenc)\n",
    "- [Import 2](#import2)"
   ]
  },
  {
   "cell_type": "markdown",
   "metadata": {},
   "source": [
    "# Data Preprocessing <a class=\"anchor\" id=\"1\"></a>\n",
    "### Friday, October 5  <a class=\"anchor\" id=\"oct5\"></a>\n",
    "\n",
    "> Please find attached an exemplar input file for the simulations we are running.\n",
    "\n",
    "> I also attached a dictionary with the X and Z coordinate of each innervating fiber.\n",
    "\n",
    "> Stimuli are presented every 200 ms.\n",
    "\n",
    "#### Import 1 <a class=\"anchor\" id=\"import1\"></a>"
   ]
  },
  {
   "cell_type": "code",
   "execution_count": 1,
   "metadata": {},
   "outputs": [],
   "source": [
    "import pickle as pkl\n",
    "import matplotlib.pyplot as plt\n",
    "import matplotlib.animation as animation\n",
    "import numpy as np\n",
    "np.set_printoptions(suppress=True)"
   ]
  },
  {
   "cell_type": "code",
   "execution_count": 240,
   "metadata": {},
   "outputs": [],
   "source": [
    "with open('data/input/proj_xz.pkl', 'rb') as f:\n",
    "    xz = pkl.load(f, encoding='latin1')"
   ]
  },
  {
   "cell_type": "code",
   "execution_count": 3,
   "metadata": {},
   "outputs": [],
   "source": [
    "xz_array = np.zeros((1, 2))\n",
    "keys = []\n",
    "for key in xz:\n",
    "    keys.append(key)\n",
    "    xz_array = np.concatenate((xz_array, xz[key].reshape((1, 2))), axis=0)\n",
    "keys = np.array(keys).reshape(-1, 1)\n",
    "xz_array = np.concatenate((keys, xz_array[1:]), axis=1)"
   ]
  },
  {
   "cell_type": "code",
   "execution_count": 246,
   "metadata": {},
   "outputs": [
    {
     "data": {
      "text/plain": [
       "array([[ 221184.   ,     489.488,     591.93 ],\n",
       "       [ 221185.   ,     206.701,     563.71 ],\n",
       "       [ 221186.   ,     319.906,     457.568],\n",
       "       ..., \n",
       "       [ 221181.   ,     250.45 ,     495.846],\n",
       "       [ 221182.   ,     479.566,     650.127],\n",
       "       [ 221183.   ,     391.449,     464.526]])"
      ]
     },
     "execution_count": 246,
     "metadata": {},
     "output_type": "execute_result"
    }
   ],
   "source": [
    "xz_array"
   ]
  },
  {
   "cell_type": "code",
   "execution_count": 5,
   "metadata": {},
   "outputs": [
    {
     "data": {
      "image/png": "[encoded data removed]",
      "text/plain": [
       "<matplotlib.figure.Figure at 0x10f752668>"
      ]
     },
     "metadata": {},
     "output_type": "display_data"
    }
   ],
   "source": [
    "plt.scatter(xz_array[:, 1], xz_array[:, 2]) # background hexagonal structure\n",
    "plt.show()"
   ]
  },
  {
   "cell_type": "markdown",
   "metadata": {},
   "source": [
    "### Tuesday, October 9  <a class=\"anchor\" id=\"oct9\"></a>\n",
    "- `\"input.dat\"` contains spiking times paired with GIDs (global IDs)\n",
    "- Patterns go in 200 ms packs\n",
    "- To make pictures, add up activities over each 200 ms"
   ]
  },
  {
   "cell_type": "code",
   "execution_count": 6,
   "metadata": {},
   "outputs": [],
   "source": [
    "input_ = np.loadtxt('data/input/input.dat', skiprows=1)\n",
    "input_ = np.flip(input_, axis=1)"
   ]
  },
  {
   "cell_type": "code",
   "execution_count": 7,
   "metadata": {},
   "outputs": [
    {
     "name": "stdout",
     "output_type": "stream",
     "text": [
      "[[ 221184.          1200.406006]\n",
      " [ 221184.          1801.768311]\n",
      " [ 221184.          1864.717529]\n",
      " ..., \n",
      " [ 221183.         26553.761719]\n",
      " [ 221183.         27957.466797]\n",
      " [ 221183.         29371.466797]]\n",
      "(77654, 2)\n"
     ]
    }
   ],
   "source": [
    "print(input_)\n",
    "print(input_.shape)"
   ]
  },
  {
   "cell_type": "code",
   "execution_count": 8,
   "metadata": {},
   "outputs": [
    {
     "name": "stdout",
     "output_type": "stream",
     "text": [
      "Avg fibres per spike time: 21.685004188774087\n"
     ]
    }
   ],
   "source": [
    "print(\"Avg fibres per spike time: {}\".format(input_.shape[0] / np.unique(input_[:, 1]).shape[0]))"
   ]
  },
  {
   "cell_type": "code",
   "execution_count": 9,
   "metadata": {},
   "outputs": [],
   "source": [
    "# Take all GIDs for each unique spike time.\n",
    "times = np.unique(input_[:, 1])\n",
    "times_ids = [input_[:, 0][np.argwhere(input_ == i)[:, 0]] for i in times]"
   ]
  },
  {
   "cell_type": "code",
   "execution_count": 10,
   "metadata": {},
   "outputs": [
    {
     "data": {
      "text/plain": [
       "array([ 220747.,  220750.,  220756.,  220762.,  220765.,  220773.,\n",
       "        220774.,  220778.,  220781.,  220786.,  220788.,  220796.,\n",
       "        220801.,  220806.,  220808.,  220809.,  220821.,  220826.,\n",
       "        220828.,  220837.,  220849.,  220862.,  220873.,  220898.])"
      ]
     },
     "execution_count": 10,
     "metadata": {},
     "output_type": "execute_result"
    }
   ],
   "source": [
    "times_ids[0]"
   ]
  },
  {
   "cell_type": "code",
   "execution_count": 11,
   "metadata": {
    "scrolled": false
   },
   "outputs": [],
   "source": [
    "# Translate GIDs into coordinates for each spike time.\n",
    "times_xz = []\n",
    "for ids in times_ids:\n",
    "    a = [xz_array[np.argwhere(xz_array == id_)[:, 0], :] for id_ in ids]\n",
    "    times_xz.append(np.concatenate(a))"
   ]
  },
  {
   "cell_type": "code",
   "execution_count": 12,
   "metadata": {},
   "outputs": [
    {
     "data": {
      "image/png": "[encoded data removed]",
      "text/plain": [
       "<matplotlib.figure.Figure at 0x10f787f60>"
      ]
     },
     "metadata": {},
     "output_type": "display_data"
    }
   ],
   "source": [
    "plt.scatter(xz_array[:, 1], xz_array[:, 2]) # background hexagonal structure\n",
    "plt.scatter(times_xz[0][:, 1], times_xz[0][:, 2]) # single spike time pattern\n",
    "plt.show()"
   ]
  },
  {
   "cell_type": "code",
   "execution_count": 226,
   "metadata": {},
   "outputs": [],
   "source": [
    "# Bin spike times into 200 ms intervals.\n",
    "def batch(times, ms):\n",
    "    batches_num = []\n",
    "    batch_num = 0\n",
    "    i_start = 0\n",
    "    for i, time in enumerate(times):\n",
    "        num = int(time // ms)\n",
    "        if num > batch_num:\n",
    "            batch_num = num\n",
    "            batches_num.append(slice(i_start, i))\n",
    "            i_start = i\n",
    "        if i == len(times)-1:\n",
    "            batches_num.append(slice(i_start, i+1))\n",
    "    # Skip first second of random spiking.\n",
    "    batches_num = batches_num[5:]\n",
    "    return batches_num"
   ]
  },
  {
   "cell_type": "code",
   "execution_count": 227,
   "metadata": {},
   "outputs": [],
   "source": [
    "batches_200 = batch(times, 200)"
   ]
  },
  {
   "cell_type": "code",
   "execution_count": 228,
   "metadata": {},
   "outputs": [
    {
     "data": {
      "text/plain": [
       "145"
      ]
     },
     "execution_count": 228,
     "metadata": {},
     "output_type": "execute_result"
    }
   ],
   "source": [
    "len(batches_200)"
   ]
  },
  {
   "cell_type": "code",
   "execution_count": 14,
   "metadata": {},
   "outputs": [],
   "source": [
    "stim_train = [249980, 397555, 446691, 205315, 397555, 249980, \\\n",
    "              757795, 397555, 740558, 249980, 397555, 249980, \\\n",
    "              766947, 740558, 446691, 766947, 205315, 205315, \\\n",
    "              766947, 515018, 740558, 740558, 249980, 515018, \\\n",
    "              757795, 740558, 515018, 397555, 740558, 249980, \\\n",
    "              446691, 397555, 757795, 766947, 757795, 397555, \\\n",
    "              766947, 740558, 446691, 766947, 205315, 740558, \\\n",
    "              757795, 515018, 397555, 397555, 249980, 515018, \\\n",
    "              205315, 446691, 205315, 205315, 446691, 740558, \\\n",
    "              446691, 205315, 249980, 515018, 766947, 446691, \\\n",
    "              757795, 397555, 757795, 397555, 757795, 515018, \\\n",
    "              740558, 757795, 446691, 397555, 249980, 446691, \\\n",
    "              515018, 515018, 446691, 515018, 766947, 249980, \\\n",
    "              515018, 757795, 766947, 205315, 740558, 515018, \\\n",
    "              205315, 740558, 205315, 766947, 740558, 249980, \\\n",
    "              205315, 205315, 515018, 740558, 515018, 446691, \\\n",
    "              397555, 757795, 766947, 515018, 397555, 205315, \\\n",
    "              397555, 397555, 205315, 249980, 740558, 397555, \\\n",
    "              757795, 249980, 757795, 766947, 446691, 757795, \\\n",
    "              766947, 766947, 446691, 446691, 757795, 515018, \\\n",
    "              446691, 446691, 766947, 740558, 740558, 766947, \\\n",
    "              515018, 249980, 757795, 446691, 249980, 766947, \\\n",
    "              205315, 446691, 249980, 766947, 757795, 249980, \\\n",
    "              249980, 397555, 515018, 757795, 249980, 397555, 205315]"
   ]
  },
  {
   "cell_type": "code",
   "execution_count": 15,
   "metadata": {},
   "outputs": [],
   "source": [
    "stim_train = np.array(stim_train)"
   ]
  },
  {
   "cell_type": "code",
   "execution_count": 16,
   "metadata": {},
   "outputs": [
    {
     "data": {
      "text/plain": [
       "array([205315, 249980, 397555, 446691, 515018, 740558, 757795, 766947])"
      ]
     },
     "execution_count": 16,
     "metadata": {},
     "output_type": "execute_result"
    }
   ],
   "source": [
    "np.unique(stim_train)"
   ]
  },
  {
   "cell_type": "code",
   "execution_count": 17,
   "metadata": {},
   "outputs": [
    {
     "data": {
      "text/plain": [
       "145"
      ]
     },
     "execution_count": 17,
     "metadata": {},
     "output_type": "execute_result"
    }
   ],
   "source": [
    "len(stim_train)"
   ]
  },
  {
   "cell_type": "code",
   "execution_count": 60,
   "metadata": {},
   "outputs": [],
   "source": [
    "# Make an animation representing all relevant 200 ms batches.\n",
    "fig, ax = plt.subplots()\n",
    "ax.scatter(xz_array[:, 1], xz_array[:, 2])\n",
    "ln, = ax.plot([], [], 'ro', alpha=0.5, animated=True)\n",
    "\n",
    "def update(frame):\n",
    "    xz = np.vstack(times_xz[batches_200[frame]])\n",
    "    ln.set_data(xz[:, 1], xz[:, 2])\n",
    "    return ln,\n",
    "\n",
    "ani = animation.FuncAnimation(fig, update, frames=len(batches_200),\\\n",
    "                              interval=200, blit=True)\n",
    "ani.save(\"data/batches_200.mp4\")"
   ]
  },
  {
   "cell_type": "markdown",
   "metadata": {},
   "source": [
    "## 200 ms batches vs `stim_train`  <a class=\"anchor\" id=\"200-ms-vs-stim\"></a>\n",
    "Check whether the 200 ms batches correctly represent `stim_train`."
   ]
  },
  {
   "cell_type": "code",
   "execution_count": 61,
   "metadata": {},
   "outputs": [],
   "source": [
    "# Contains GIDs for each 200 ms batch.\n",
    "times_batched = [np.sort(np.vstack(times_xz[batch])[:, 0]) for batch in batches_200]"
   ]
  },
  {
   "cell_type": "code",
   "execution_count": 62,
   "metadata": {},
   "outputs": [
    {
     "data": {
      "text/plain": [
       "145"
      ]
     },
     "execution_count": 62,
     "metadata": {},
     "output_type": "execute_result"
    }
   ],
   "source": [
    "len(times_batched)"
   ]
  },
  {
   "cell_type": "code",
   "execution_count": 63,
   "metadata": {},
   "outputs": [],
   "source": [
    "# Hash to check unique batches.\n",
    "times_batched_hashed = [hash(batch.tostring()) for batch in times_batched]"
   ]
  },
  {
   "cell_type": "code",
   "execution_count": 64,
   "metadata": {},
   "outputs": [
    {
     "data": {
      "text/plain": [
       "(145,)"
      ]
     },
     "execution_count": 64,
     "metadata": {},
     "output_type": "execute_result"
    }
   ],
   "source": [
    "np.unique(times_batched_hashed).shape"
   ]
  },
  {
   "cell_type": "markdown",
   "metadata": {},
   "source": [
    "This means that every batch has a unique set of fibres, which is how it should be."
   ]
  },
  {
   "cell_type": "code",
   "execution_count": 70,
   "metadata": {},
   "outputs": [
    {
     "name": "stdout",
     "output_type": "stream",
     "text": [
      "[  3  16  17  40  48  50  51  55  81  84  86  90  91 101 104 132 144]\n"
     ]
    },
    {
     "data": {
      "image/png": "[encoded data removed]",
      "text/plain": [
       "<matplotlib.figure.Figure at 0x10f7927b8>"
      ]
     },
     "metadata": {},
     "output_type": "display_data"
    }
   ],
   "source": [
    "# Pick all indices from `stim_train` with the same specific value (representing the same pattern).\n",
    "# 200 ms batches\n",
    "pick = np.argwhere(stim_train == 205315).reshape(-1)\n",
    "print(pick)\n",
    "plt.title('200 ms batches')\n",
    "plt.scatter(xz_array[:, 1], xz_array[:, 2]) # background hexagonal structure\n",
    "for i in pick:\n",
    "    xz = np.vstack(times_xz[batches_200[i]])\n",
    "    plt.scatter(xz[:, 1], xz[:, 2], c='r', alpha=0.5)\n",
    "plt.show()"
   ]
  },
  {
   "cell_type": "markdown",
   "metadata": {},
   "source": [
    "### Wednesday, October 10 <a class=\"anchor\" id=\"oct10\"></a>"
   ]
  },
  {
   "cell_type": "code",
   "execution_count": 71,
   "metadata": {},
   "outputs": [],
   "source": [
    "fig, ax = plt.subplots()\n",
    "ax.scatter(xz_array[:, 1], xz_array[:, 2])\n",
    "ln, = ax.plot([], [], 'ro', alpha=0.5, animated=True)\n",
    "\n",
    "def update(frame):\n",
    "    xz = np.vstack(times_xz[batches_200[pick[frame]]])\n",
    "    ln.set_data(xz[:, 1], xz[:, 2])\n",
    "    return ln,\n",
    "\n",
    "ani = animation.FuncAnimation(fig, update, frames=len(pick),\\\n",
    "                              interval=200, blit=True)\n",
    "ani.save(\"data/205315.mp4\")"
   ]
  },
  {
   "cell_type": "code",
   "execution_count": 130,
   "metadata": {},
   "outputs": [
    {
     "data": {
      "text/plain": [
       "564"
      ]
     },
     "execution_count": 130,
     "metadata": {},
     "output_type": "execute_result"
    }
   ],
   "source": [
    "len(xz)"
   ]
  },
  {
   "cell_type": "code",
   "execution_count": 127,
   "metadata": {
    "scrolled": true
   },
   "outputs": [
    {
     "data": {
      "text/plain": [
       "435"
      ]
     },
     "execution_count": 127,
     "metadata": {},
     "output_type": "execute_result"
    }
   ],
   "source": [
    "len(np.unique(xz, axis=0))"
   ]
  },
  {
   "cell_type": "markdown",
   "metadata": {},
   "source": [
    "This shows that there are repetitive GID-coordinates pairs in `xz`."
   ]
  },
  {
   "cell_type": "markdown",
   "metadata": {},
   "source": [
    "**UPD** Actually, this shows nothing more than my inattentiveness to global variables :(\n",
    "\n",
    "`xz` was altered during plotting, and then I forgot that `xz` should have been the initial readout, not the array, which is `xz_array` (below)."
   ]
  },
  {
   "cell_type": "code",
   "execution_count": 247,
   "metadata": {},
   "outputs": [
    {
     "data": {
      "text/plain": [
       "2170"
      ]
     },
     "execution_count": 247,
     "metadata": {},
     "output_type": "execute_result"
    }
   ],
   "source": [
    "len(xz_array)"
   ]
  },
  {
   "cell_type": "code",
   "execution_count": 249,
   "metadata": {},
   "outputs": [
    {
     "data": {
      "text/plain": [
       "2170"
      ]
     },
     "execution_count": 249,
     "metadata": {},
     "output_type": "execute_result"
    }
   ],
   "source": [
    "len(np.unique(xz_array, axis=0))"
   ]
  },
  {
   "cell_type": "markdown",
   "metadata": {},
   "source": [
    "**Don't take anything below seriously, I'll manage the next time.**"
   ]
  },
  {
   "cell_type": "code",
   "execution_count": 162,
   "metadata": {},
   "outputs": [
    {
     "name": "stdout",
     "output_type": "stream",
     "text": [
      "[ 339.865  153.699]\n",
      "[ 339.865  153.699]\n",
      "\n",
      "\n",
      "[ 361.288  150.086]\n",
      "[ 361.288  150.086]\n",
      "\n",
      "\n",
      "[ 314.608  145.888]\n",
      "[ 314.608  145.888]\n",
      "\n",
      "\n",
      "[ 294.087  144.911]\n",
      "[ 294.087  144.911]\n",
      "\n",
      "\n",
      "[ 341.444  123.917]\n",
      "[ 341.444  123.917]\n",
      "\n",
      "\n"
     ]
    }
   ],
   "source": [
    "# Just to make sure that each repetitive GID have the same coordinates.\n",
    "d = {}\n",
    "for ind, val in enumerate(xz[:, 0]):\n",
    "    if val in d.keys():\n",
    "        d[val].append(ind)\n",
    "    else:\n",
    "        d[val] = [ind]\n",
    "        \n",
    "count = 0\n",
    "for key in d.keys():\n",
    "    if len(d[key]) > 1 and count < 5:\n",
    "        for val in d[key]:\n",
    "            print(xz[val, 1:])\n",
    "        print('\\n')\n",
    "        count += 1"
   ]
  },
  {
   "cell_type": "code",
   "execution_count": 136,
   "metadata": {},
   "outputs": [],
   "source": [
    "xz_unique = np.unique(xz, axis=0)"
   ]
  },
  {
   "cell_type": "code",
   "execution_count": 163,
   "metadata": {},
   "outputs": [],
   "source": [
    "# Dictionary for counts encoding to feed to the NN.\n",
    "GID_to_num = {val: ind for ind, val in enumerate(xz_unique[:, 0])}"
   ]
  },
  {
   "cell_type": "code",
   "execution_count": 167,
   "metadata": {},
   "outputs": [
    {
     "data": {
      "text/plain": [
       "array([ 220422.,  220423.,  220424.,  220425.,  220426.,  220427.,\n",
       "        220428.,  220429.,  220430.,  220431.])"
      ]
     },
     "execution_count": 167,
     "metadata": {},
     "output_type": "execute_result"
    }
   ],
   "source": [
    "batch_gids = np.vstack(times_xz[batches_200[0]])[:, 0]\n",
    "batch_gids[:10]"
   ]
  },
  {
   "cell_type": "code",
   "execution_count": 168,
   "metadata": {},
   "outputs": [
    {
     "ename": "KeyError",
     "evalue": "221372.0",
     "output_type": "error",
     "traceback": [
      "\u001b[0;31m---------------------------------------------------------------------------\u001b[0m",
      "\u001b[0;31mKeyError\u001b[0m                                  Traceback (most recent call last)",
      "\u001b[0;32m<ipython-input-168-0240469fb94d>\u001b[0m in \u001b[0;36m<module>\u001b[0;34m()\u001b[0m\n\u001b[0;32m----> 1\u001b[0;31m \u001b[0mgid_nums\u001b[0m \u001b[0;34m=\u001b[0m \u001b[0;34m[\u001b[0m\u001b[0mGID_to_num\u001b[0m\u001b[0;34m[\u001b[0m\u001b[0mkey\u001b[0m\u001b[0;34m]\u001b[0m \u001b[0;32mfor\u001b[0m \u001b[0mkey\u001b[0m \u001b[0;32min\u001b[0m \u001b[0mbatch_gids\u001b[0m\u001b[0;34m]\u001b[0m\u001b[0;34m\u001b[0m\u001b[0m\n\u001b[0m\u001b[1;32m      2\u001b[0m \u001b[0mgids\u001b[0m\u001b[0;34m\u001b[0m\u001b[0m\n",
      "\u001b[0;32m<ipython-input-168-0240469fb94d>\u001b[0m in \u001b[0;36m<listcomp>\u001b[0;34m(.0)\u001b[0m\n\u001b[0;32m----> 1\u001b[0;31m \u001b[0mgid_nums\u001b[0m \u001b[0;34m=\u001b[0m \u001b[0;34m[\u001b[0m\u001b[0mGID_to_num\u001b[0m\u001b[0;34m[\u001b[0m\u001b[0mkey\u001b[0m\u001b[0;34m]\u001b[0m \u001b[0;32mfor\u001b[0m \u001b[0mkey\u001b[0m \u001b[0;32min\u001b[0m \u001b[0mbatch_gids\u001b[0m\u001b[0;34m]\u001b[0m\u001b[0;34m\u001b[0m\u001b[0m\n\u001b[0m\u001b[1;32m      2\u001b[0m \u001b[0mgids\u001b[0m\u001b[0;34m\u001b[0m\u001b[0m\n",
      "\u001b[0;31mKeyError\u001b[0m: 221372.0"
     ]
    }
   ],
   "source": [
    "gid_nums = [GID_to_num[key] for key in batch_gids]\n",
    "gids"
   ]
  },
  {
   "cell_type": "markdown",
   "metadata": {},
   "source": [
    "The script encountered a GID that is not in `xz`. Let's double check."
   ]
  },
  {
   "cell_type": "code",
   "execution_count": 170,
   "metadata": {},
   "outputs": [
    {
     "data": {
      "text/plain": [
       "False"
      ]
     },
     "execution_count": 170,
     "metadata": {},
     "output_type": "execute_result"
    }
   ],
   "source": [
    "221372.0 in GID_to_num.keys()"
   ]
  },
  {
   "cell_type": "code",
   "execution_count": 171,
   "metadata": {},
   "outputs": [
    {
     "data": {
      "text/plain": [
       "False"
      ]
     },
     "execution_count": 171,
     "metadata": {},
     "output_type": "execute_result"
    }
   ],
   "source": [
    "221372.0 in xz[:, 0]"
   ]
  },
  {
   "cell_type": "markdown",
   "metadata": {},
   "source": [
    "Let's now count all the GIDs that are not on the XZ coordinates list (`xz`)."
   ]
  },
  {
   "cell_type": "code",
   "execution_count": 182,
   "metadata": {},
   "outputs": [],
   "source": [
    "gids_not_in_xz = {}\n",
    "inds_to_drop = []\n",
    "for ind, gid in enumerate(input_[:, 0]):\n",
    "    if gid not in GID_to_num.keys():\n",
    "        inds_to_drop.append(ind)\n",
    "        if gid not in gids_not_in_xz.keys():\n",
    "            gids_not_in_xz[gid] = 1\n",
    "        else:\n",
    "            gids_not_in_xz[gid] += 1"
   ]
  },
  {
   "cell_type": "code",
   "execution_count": 238,
   "metadata": {},
   "outputs": [
    {
     "data": {
      "text/plain": [
       "564"
      ]
     },
     "execution_count": 238,
     "metadata": {},
     "output_type": "execute_result"
    }
   ],
   "source": [
    "len(xz)"
   ]
  },
  {
   "cell_type": "code",
   "execution_count": 177,
   "metadata": {},
   "outputs": [
    {
     "data": {
      "text/plain": [
       "1735"
      ]
     },
     "execution_count": 177,
     "metadata": {},
     "output_type": "execute_result"
    }
   ],
   "source": [
    "len(gids_not_in_xz)"
   ]
  },
  {
   "cell_type": "code",
   "execution_count": 176,
   "metadata": {},
   "outputs": [
    {
     "data": {
      "text/plain": [
       "77654"
      ]
     },
     "execution_count": 176,
     "metadata": {},
     "output_type": "execute_result"
    }
   ],
   "source": [
    "len(input_)"
   ]
  },
  {
   "cell_type": "code",
   "execution_count": 239,
   "metadata": {},
   "outputs": [
    {
     "data": {
      "text/plain": [
       "56258"
      ]
     },
     "execution_count": 239,
     "metadata": {},
     "output_type": "execute_result"
    }
   ],
   "source": [
    "len(inds_to_drop)"
   ]
  },
  {
   "cell_type": "markdown",
   "metadata": {},
   "source": [
    "I'll just get rid of them for now."
   ]
  },
  {
   "cell_type": "code",
   "execution_count": 183,
   "metadata": {},
   "outputs": [],
   "source": [
    "new_input = np.delete(input_, inds_to_drop, 0)"
   ]
  },
  {
   "cell_type": "code",
   "execution_count": 187,
   "metadata": {},
   "outputs": [],
   "source": [
    "new_input[:, 0] = [GID_to_num[gid] for gid in new_input[:, 0]]"
   ]
  },
  {
   "cell_type": "code",
   "execution_count": 188,
   "metadata": {},
   "outputs": [
    {
     "data": {
      "text/plain": [
       "array([[   203.      ,    883.354553],\n",
       "       [   203.      ,   2603.540283],\n",
       "       [   203.      ,   2613.555664],\n",
       "       ..., \n",
       "       [   202.      ,  28690.726562],\n",
       "       [   202.      ,  29802.4375  ],\n",
       "       [   202.      ,  29807.978516]])"
      ]
     },
     "execution_count": 188,
     "metadata": {},
     "output_type": "execute_result"
    }
   ],
   "source": [
    "new_input"
   ]
  },
  {
   "cell_type": "code",
   "execution_count": 237,
   "metadata": {},
   "outputs": [
    {
     "data": {
      "text/plain": [
       "21396"
      ]
     },
     "execution_count": 237,
     "metadata": {},
     "output_type": "execute_result"
    }
   ],
   "source": [
    "len(new_input)"
   ]
  },
  {
   "cell_type": "code",
   "execution_count": 195,
   "metadata": {},
   "outputs": [],
   "source": [
    "new_times = np.unique(new_input[:, 1])\n",
    "new_times_nums = [new_input[:, 0][np.argwhere(new_input == i)[:, 0]] for i in new_times]"
   ]
  },
  {
   "cell_type": "code",
   "execution_count": 229,
   "metadata": {},
   "outputs": [],
   "source": [
    "new_batches_200 = batch(new_times, 200)"
   ]
  },
  {
   "cell_type": "code",
   "execution_count": 235,
   "metadata": {},
   "outputs": [
    {
     "data": {
      "text/plain": [
       "144"
      ]
     },
     "execution_count": 235,
     "metadata": {},
     "output_type": "execute_result"
    }
   ],
   "source": [
    "len(new_batches_200)"
   ]
  },
  {
   "cell_type": "code",
   "execution_count": 236,
   "metadata": {},
   "outputs": [
    {
     "data": {
      "text/plain": [
       "[slice(22, 24, None),\n",
       " slice(24, 29, None),\n",
       " slice(29, 45, None),\n",
       " slice(45, 51, None),\n",
       " slice(51, 57, None),\n",
       " slice(57, 63, None),\n",
       " slice(63, 68, None),\n",
       " slice(68, 80, None),\n",
       " slice(80, 87, None),\n",
       " slice(87, 89, None),\n",
       " slice(89, 96, None),\n",
       " slice(96, 101, None),\n",
       " slice(101, 113, None),\n",
       " slice(113, 121, None),\n",
       " slice(121, 126, None),\n",
       " slice(126, 140, None),\n",
       " slice(140, 155, None),\n",
       " slice(155, 159, None),\n",
       " slice(159, 161, None),\n",
       " slice(161, 171, None),\n",
       " slice(171, 180, None),\n",
       " slice(180, 187, None),\n",
       " slice(187, 192, None),\n",
       " slice(192, 196, None),\n",
       " slice(196, 207, None),\n",
       " slice(207, 211, None),\n",
       " slice(211, 214, None),\n",
       " slice(214, 225, None),\n",
       " slice(225, 232, None),\n",
       " slice(232, 237, None),\n",
       " slice(237, 241, None),\n",
       " slice(241, 244, None),\n",
       " slice(244, 248, None),\n",
       " slice(248, 254, None),\n",
       " slice(254, 259, None),\n",
       " slice(259, 263, None),\n",
       " slice(263, 272, None),\n",
       " slice(272, 277, None),\n",
       " slice(277, 280, None),\n",
       " slice(280, 298, None),\n",
       " slice(298, 306, None),\n",
       " slice(306, 308, None),\n",
       " slice(308, 312, None),\n",
       " slice(312, 315, None),\n",
       " slice(315, 320, None),\n",
       " slice(320, 327, None),\n",
       " slice(327, 329, None),\n",
       " slice(329, 349, None),\n",
       " slice(349, 358, None),\n",
       " slice(358, 374, None),\n",
       " slice(374, 394, None),\n",
       " slice(394, 399, None),\n",
       " slice(399, 409, None),\n",
       " slice(409, 414, None),\n",
       " slice(414, 431, None),\n",
       " slice(431, 437, None),\n",
       " slice(437, 440, None),\n",
       " slice(440, 446, None),\n",
       " slice(446, 450, None),\n",
       " slice(450, 451, None),\n",
       " slice(451, 455, None),\n",
       " slice(455, 461, None),\n",
       " slice(461, 463, None),\n",
       " slice(463, 467, None),\n",
       " slice(467, 468, None),\n",
       " slice(468, 480, None),\n",
       " slice(480, 483, None),\n",
       " slice(483, 491, None),\n",
       " slice(491, 495, None),\n",
       " slice(495, 505, None),\n",
       " slice(505, 513, None),\n",
       " slice(513, 519, None),\n",
       " slice(519, 522, None),\n",
       " slice(522, 530, None),\n",
       " slice(530, 535, None),\n",
       " slice(535, 538, None),\n",
       " slice(538, 547, None),\n",
       " slice(547, 550, None),\n",
       " slice(550, 557, None),\n",
       " slice(557, 560, None),\n",
       " slice(560, 578, None),\n",
       " slice(578, 587, None),\n",
       " slice(587, 591, None),\n",
       " slice(591, 609, None),\n",
       " slice(609, 621, None),\n",
       " slice(621, 639, None),\n",
       " slice(639, 644, None),\n",
       " slice(644, 654, None),\n",
       " slice(654, 661, None),\n",
       " slice(661, 677, None),\n",
       " slice(677, 693, None),\n",
       " slice(693, 697, None),\n",
       " slice(697, 707, None),\n",
       " slice(707, 711, None),\n",
       " slice(711, 719, None),\n",
       " slice(719, 722, None),\n",
       " slice(722, 725, None),\n",
       " slice(725, 731, None),\n",
       " slice(731, 734, None),\n",
       " slice(734, 737, None),\n",
       " slice(737, 754, None),\n",
       " slice(754, 758, None),\n",
       " slice(758, 761, None),\n",
       " slice(761, 779, None),\n",
       " slice(779, 787, None),\n",
       " slice(787, 798, None),\n",
       " slice(798, 801, None),\n",
       " slice(801, 805, None),\n",
       " slice(805, 811, None),\n",
       " slice(811, 812, None),\n",
       " slice(812, 817, None),\n",
       " slice(817, 824, None),\n",
       " slice(824, 829, None),\n",
       " slice(829, 834, None),\n",
       " slice(834, 837, None),\n",
       " slice(837, 844, None),\n",
       " slice(844, 848, None),\n",
       " slice(848, 851, None),\n",
       " slice(851, 855, None),\n",
       " slice(855, 861, None),\n",
       " slice(861, 869, None),\n",
       " slice(869, 874, None),\n",
       " slice(874, 886, None),\n",
       " slice(886, 896, None),\n",
       " slice(896, 901, None),\n",
       " slice(901, 903, None),\n",
       " slice(903, 912, None),\n",
       " slice(912, 914, None),\n",
       " slice(914, 919, None),\n",
       " slice(919, 929, None),\n",
       " slice(929, 932, None),\n",
       " slice(932, 949, None),\n",
       " slice(949, 955, None),\n",
       " slice(955, 961, None),\n",
       " slice(961, 966, None),\n",
       " slice(966, 969, None),\n",
       " slice(969, 977, None),\n",
       " slice(977, 987, None),\n",
       " slice(987, 988, None),\n",
       " slice(988, 991, None),\n",
       " slice(991, 996, None),\n",
       " slice(996, 1000, None),\n",
       " slice(1000, 1002, None),\n",
       " slice(1002, 1029, None)]"
      ]
     },
     "execution_count": 236,
     "metadata": {},
     "output_type": "execute_result"
    }
   ],
   "source": [
    "new_batches_200"
   ]
  },
  {
   "cell_type": "code",
   "execution_count": 230,
   "metadata": {},
   "outputs": [],
   "source": [
    "x_data = []\n",
    "for batch in new_batches_200:\n",
    "    nums = np.concatenate(new_times_nums[new_batches_200[0]]).astype(np.int_)\n",
    "    data = np.bincount(nums)\n",
    "    data = np.concatenate((data, np.zeros(len(GID_to_num.keys()) - len(data))))\n",
    "    x_data.append(data)\n",
    "x_data = np.array(x_data)"
   ]
  },
  {
   "cell_type": "code",
   "execution_count": 231,
   "metadata": {},
   "outputs": [
    {
     "data": {
      "text/plain": [
       "array([[ 1.,  1.,  1., ...,  0.,  0.,  0.],\n",
       "       [ 1.,  1.,  1., ...,  0.,  0.,  0.],\n",
       "       [ 1.,  1.,  1., ...,  0.,  0.,  0.],\n",
       "       ..., \n",
       "       [ 1.,  1.,  1., ...,  0.,  0.,  0.],\n",
       "       [ 1.,  1.,  1., ...,  0.,  0.,  0.],\n",
       "       [ 1.,  1.,  1., ...,  0.,  0.,  0.]])"
      ]
     },
     "execution_count": 231,
     "metadata": {},
     "output_type": "execute_result"
    }
   ],
   "source": [
    "x_data"
   ]
  },
  {
   "cell_type": "code",
   "execution_count": 232,
   "metadata": {},
   "outputs": [],
   "source": [
    "np.random.seed(42)\n",
    "x_data_shuffled = x_data\n",
    "np.random.shuffle(x_data_shuffled)"
   ]
  },
  {
   "cell_type": "code",
   "execution_count": 233,
   "metadata": {},
   "outputs": [],
   "source": [
    "x_train = x_data_shuffled[:int(len(x_data_shuffled)*0.8)]\n",
    "x_test = x_data_shuffled[int(len(x_data_shuffled)*0.8):]"
   ]
  },
  {
   "cell_type": "code",
   "execution_count": 234,
   "metadata": {},
   "outputs": [
    {
     "data": {
      "text/plain": [
       "((115, 435), (29, 435))"
      ]
     },
     "execution_count": 234,
     "metadata": {},
     "output_type": "execute_result"
    }
   ],
   "source": [
    "x_train.shape, x_test.shape"
   ]
  },
  {
   "cell_type": "markdown",
   "metadata": {},
   "source": [
    "# Autoencoder <a class=\"anchor\" id=\"autoenc\"></a>\n",
    "#### Import 2 <a class=\"anchor\" id=\"import2\"></a>"
   ]
  },
  {
   "cell_type": "code",
   "execution_count": 219,
   "metadata": {},
   "outputs": [],
   "source": [
    "from keras.layers import Input, Dense\n",
    "from keras.models import Model\n",
    "from keras.models import load_model\n",
    "from keras import regularizers"
   ]
  },
  {
   "cell_type": "code",
   "execution_count": 220,
   "metadata": {},
   "outputs": [],
   "source": [
    "def build_autoenc(encoding_dim=8, input_shape=(435,), sparsity=0):\n",
    "\n",
    "    # this is the size of our encoded representations\n",
    "    encoding_dim = encoding_dim\n",
    "\n",
    "    # this is our input placeholder\n",
    "    input_img = Input(shape=input_shape)\n",
    "    # \"encoded\" is the encoded representation of the input\n",
    "    encoded = Dense(encoding_dim, activation='relu', \\\n",
    "                    activity_regularizer=regularizers.l1(sparsity))(input_img)\n",
    "    # \"decoded\" is the lossy reconstruction of the input\n",
    "    decoded = Dense(input_shape[0], activation='sigmoid')(encoded)\n",
    "\n",
    "    # this model maps an input to its reconstruction\n",
    "    autoencoder = Model(input_img, decoded)\n",
    "\n",
    "    # this model maps an input to its encoded representation\n",
    "    encoder = Model(input_img, encoded)\n",
    "\n",
    "    # create a placeholder for an encoded (encoding_dim-dimensional) input\n",
    "    encoded_input = Input(shape=(encoding_dim,))\n",
    "    # retrieve the last layer of the autoencoder model\n",
    "    decoder_layer = autoencoder.layers[-1]\n",
    "    # create the decoder model\n",
    "    decoder = Model(encoded_input, decoder_layer(encoded_input))\n",
    "\n",
    "    autoencoder.compile(optimizer='adadelta', loss='binary_crossentropy')  \n",
    "\n",
    "    return autoencoder, encoder, decoder"
   ]
  },
  {
   "cell_type": "code",
   "execution_count": 221,
   "metadata": {},
   "outputs": [],
   "source": [
    "autoencoder, encoder, decoder = build_autoenc()"
   ]
  },
  {
   "cell_type": "code",
   "execution_count": 222,
   "metadata": {},
   "outputs": [
    {
     "name": "stdout",
     "output_type": "stream",
     "text": [
      "Train on 119 samples, validate on 30 samples\n",
      "Epoch 1/100\n",
      " - 0s - loss: 0.6945 - val_loss: 0.6935\n",
      "Epoch 2/100\n",
      " - 0s - loss: 0.6935 - val_loss: 0.6926\n",
      "Epoch 3/100\n",
      " - 0s - loss: 0.6926 - val_loss: 0.6917\n",
      "Epoch 4/100\n",
      " - 0s - loss: 0.6917 - val_loss: 0.6909\n",
      "Epoch 5/100\n",
      " - 0s - loss: 0.6909 - val_loss: 0.6900\n",
      "Epoch 6/100\n",
      " - 0s - loss: 0.6900 - val_loss: 0.6891\n",
      "Epoch 7/100\n",
      " - 0s - loss: 0.6891 - val_loss: 0.6882\n",
      "Epoch 8/100\n",
      " - 0s - loss: 0.6882 - val_loss: 0.6872\n",
      "Epoch 9/100\n",
      " - 0s - loss: 0.6872 - val_loss: 0.6861\n",
      "Epoch 10/100\n",
      " - 0s - loss: 0.6861 - val_loss: 0.6849\n",
      "Epoch 11/100\n",
      " - 0s - loss: 0.6849 - val_loss: 0.6837\n",
      "Epoch 12/100\n",
      " - 0s - loss: 0.6837 - val_loss: 0.6823\n",
      "Epoch 13/100\n",
      " - 0s - loss: 0.6823 - val_loss: 0.6807\n",
      "Epoch 14/100\n",
      " - 0s - loss: 0.6807 - val_loss: 0.6789\n",
      "Epoch 15/100\n",
      " - 0s - loss: 0.6789 - val_loss: 0.6769\n",
      "Epoch 16/100\n",
      " - 0s - loss: 0.6769 - val_loss: 0.6746\n",
      "Epoch 17/100\n",
      " - 0s - loss: 0.6746 - val_loss: 0.6721\n",
      "Epoch 18/100\n",
      " - 0s - loss: 0.6721 - val_loss: 0.6692\n",
      "Epoch 19/100\n",
      " - 0s - loss: 0.6692 - val_loss: 0.6660\n",
      "Epoch 20/100\n",
      " - 0s - loss: 0.6660 - val_loss: 0.6623\n",
      "Epoch 21/100\n",
      " - 0s - loss: 0.6623 - val_loss: 0.6582\n",
      "Epoch 22/100\n",
      " - 0s - loss: 0.6582 - val_loss: 0.6535\n",
      "Epoch 23/100\n",
      " - 0s - loss: 0.6535 - val_loss: 0.6483\n",
      "Epoch 24/100\n",
      " - 0s - loss: 0.6483 - val_loss: 0.6425\n",
      "Epoch 25/100\n",
      " - 0s - loss: 0.6425 - val_loss: 0.6360\n",
      "Epoch 26/100\n",
      " - 0s - loss: 0.6360 - val_loss: 0.6288\n",
      "Epoch 27/100\n",
      " - 0s - loss: 0.6288 - val_loss: 0.6208\n",
      "Epoch 28/100\n",
      " - 0s - loss: 0.6208 - val_loss: 0.6120\n",
      "Epoch 29/100\n",
      " - 0s - loss: 0.6120 - val_loss: 0.6023\n",
      "Epoch 30/100\n",
      " - 0s - loss: 0.6023 - val_loss: 0.5916\n",
      "Epoch 31/100\n",
      " - 0s - loss: 0.5916 - val_loss: 0.5799\n",
      "Epoch 32/100\n",
      " - 0s - loss: 0.5799 - val_loss: 0.5672\n",
      "Epoch 33/100\n",
      " - 0s - loss: 0.5672 - val_loss: 0.5535\n",
      "Epoch 34/100\n",
      " - 0s - loss: 0.5535 - val_loss: 0.5387\n",
      "Epoch 35/100\n",
      " - 0s - loss: 0.5387 - val_loss: 0.5228\n",
      "Epoch 36/100\n",
      " - 0s - loss: 0.5228 - val_loss: 0.5059\n",
      "Epoch 37/100\n",
      " - 0s - loss: 0.5059 - val_loss: 0.4874\n",
      "Epoch 38/100\n",
      " - 0s - loss: 0.4874 - val_loss: 0.4680\n",
      "Epoch 39/100\n",
      " - 0s - loss: 0.4680 - val_loss: 0.4478\n",
      "Epoch 40/100\n",
      " - 0s - loss: 0.4478 - val_loss: 0.4273\n",
      "Epoch 41/100\n",
      " - 0s - loss: 0.4273 - val_loss: 0.4062\n",
      "Epoch 42/100\n",
      " - 0s - loss: 0.4062 - val_loss: 0.3847\n",
      "Epoch 43/100\n",
      " - 0s - loss: 0.3847 - val_loss: 0.3629\n",
      "Epoch 44/100\n",
      " - 0s - loss: 0.3629 - val_loss: 0.3410\n",
      "Epoch 45/100\n",
      " - 0s - loss: 0.3410 - val_loss: 0.3193\n",
      "Epoch 46/100\n",
      " - 0s - loss: 0.3193 - val_loss: 0.2978\n",
      "Epoch 47/100\n",
      " - 0s - loss: 0.2978 - val_loss: 0.2768\n",
      "Epoch 48/100\n",
      " - 0s - loss: 0.2768 - val_loss: 0.2565\n",
      "Epoch 49/100\n",
      " - 0s - loss: 0.2565 - val_loss: 0.2370\n",
      "Epoch 50/100\n",
      " - 0s - loss: 0.2370 - val_loss: 0.2185\n",
      "Epoch 51/100\n",
      " - 0s - loss: 0.2185 - val_loss: 0.2007\n",
      "Epoch 52/100\n",
      " - 0s - loss: 0.2007 - val_loss: 0.1844\n",
      "Epoch 53/100\n",
      " - 0s - loss: 0.1844 - val_loss: 0.1692\n",
      "Epoch 54/100\n",
      " - 0s - loss: 0.1692 - val_loss: 0.1553\n",
      "Epoch 55/100\n",
      " - 0s - loss: 0.1553 - val_loss: 0.1425\n",
      "Epoch 56/100\n",
      " - 0s - loss: 0.1425 - val_loss: 0.1307\n",
      "Epoch 57/100\n",
      " - 0s - loss: 0.1307 - val_loss: 0.1202\n",
      "Epoch 58/100\n",
      " - 0s - loss: 0.1202 - val_loss: 0.1105\n",
      "Epoch 59/100\n",
      " - 0s - loss: 0.1105 - val_loss: 0.1019\n",
      "Epoch 60/100\n",
      " - 0s - loss: 0.1019 - val_loss: 0.0941\n",
      "Epoch 61/100\n",
      " - 0s - loss: 0.0941 - val_loss: 0.0871\n",
      "Epoch 62/100\n",
      " - 0s - loss: 0.0871 - val_loss: 0.0808\n",
      "Epoch 63/100\n",
      " - 0s - loss: 0.0808 - val_loss: 0.0751\n",
      "Epoch 64/100\n",
      " - 0s - loss: 0.0751 - val_loss: 0.0700\n",
      "Epoch 65/100\n",
      " - 0s - loss: 0.0700 - val_loss: 0.0654\n",
      "Epoch 66/100\n",
      " - 0s - loss: 0.0654 - val_loss: 0.0612\n",
      "Epoch 67/100\n",
      " - 0s - loss: 0.0612 - val_loss: 0.0574\n",
      "Epoch 68/100\n",
      " - 0s - loss: 0.0574 - val_loss: 0.0539\n",
      "Epoch 69/100\n",
      " - 0s - loss: 0.0539 - val_loss: 0.0508\n",
      "Epoch 70/100\n",
      " - 0s - loss: 0.0508 - val_loss: 0.0479\n",
      "Epoch 71/100\n",
      " - 0s - loss: 0.0479 - val_loss: 0.0453\n",
      "Epoch 72/100\n",
      " - 0s - loss: 0.0453 - val_loss: 0.0429\n",
      "Epoch 73/100\n",
      " - 0s - loss: 0.0429 - val_loss: 0.0407\n",
      "Epoch 74/100\n",
      " - 0s - loss: 0.0407 - val_loss: 0.0387\n",
      "Epoch 75/100\n",
      " - 0s - loss: 0.0387 - val_loss: 0.0368\n",
      "Epoch 76/100\n",
      " - 0s - loss: 0.0368 - val_loss: 0.0351\n",
      "Epoch 77/100\n",
      " - 0s - loss: 0.0351 - val_loss: 0.0335\n",
      "Epoch 78/100\n",
      " - 0s - loss: 0.0335 - val_loss: 0.0320\n",
      "Epoch 79/100\n",
      " - 0s - loss: 0.0320 - val_loss: 0.0307\n",
      "Epoch 80/100\n",
      " - 0s - loss: 0.0307 - val_loss: 0.0294\n",
      "Epoch 81/100\n",
      " - 0s - loss: 0.0294 - val_loss: 0.0282\n",
      "Epoch 82/100\n",
      " - 0s - loss: 0.0282 - val_loss: 0.0271\n",
      "Epoch 83/100\n",
      " - 0s - loss: 0.0271 - val_loss: 0.0261\n",
      "Epoch 84/100\n",
      " - 0s - loss: 0.0261 - val_loss: 0.0251\n",
      "Epoch 85/100\n",
      " - 0s - loss: 0.0251 - val_loss: 0.0242\n",
      "Epoch 86/100\n",
      " - 0s - loss: 0.0242 - val_loss: 0.0233\n",
      "Epoch 87/100\n",
      " - 0s - loss: 0.0233 - val_loss: 0.0225\n",
      "Epoch 88/100\n",
      " - 0s - loss: 0.0225 - val_loss: 0.0217\n",
      "Epoch 89/100\n",
      " - 0s - loss: 0.0217 - val_loss: 0.0210\n",
      "Epoch 90/100\n",
      " - 0s - loss: 0.0210 - val_loss: 0.0203\n",
      "Epoch 91/100\n",
      " - 0s - loss: 0.0203 - val_loss: 0.0197\n",
      "Epoch 92/100\n",
      " - 0s - loss: 0.0197 - val_loss: 0.0191\n",
      "Epoch 93/100\n",
      " - 0s - loss: 0.0191 - val_loss: 0.0185\n",
      "Epoch 94/100\n",
      " - 0s - loss: 0.0185 - val_loss: 0.0180\n",
      "Epoch 95/100\n",
      " - 0s - loss: 0.0180 - val_loss: 0.0174\n",
      "Epoch 96/100\n",
      " - 0s - loss: 0.0174 - val_loss: 0.0170\n",
      "Epoch 97/100\n",
      " - 0s - loss: 0.0170 - val_loss: 0.0165\n",
      "Epoch 98/100\n",
      " - 0s - loss: 0.0165 - val_loss: 0.0160\n",
      "Epoch 99/100\n",
      " - 0s - loss: 0.0160 - val_loss: 0.0156\n",
      "Epoch 100/100\n",
      " - 0s - loss: 0.0156 - val_loss: 0.0152\n"
     ]
    }
   ],
   "source": [
    "history = autoencoder.fit(x_train, x_train, \\\n",
    "                          epochs=100, \\\n",
    "                          batch_size=256, \\\n",
    "                          shuffle=True, \\\n",
    "                          validation_data=(x_test, x_test), \\\n",
    "                          verbose=2)"
   ]
  },
  {
   "cell_type": "code",
   "execution_count": 225,
   "metadata": {},
   "outputs": [
    {
     "data": {
      "image/png": "[encoded data removed]",
      "text/plain": [
       "<matplotlib.figure.Figure at 0x10f7922b0>"
      ]
     },
     "metadata": {},
     "output_type": "display_data"
    }
   ],
   "source": [
    "plt.plot(history.history['loss'])\n",
    "plt.plot(history.history['val_loss'])\n",
    "plt.show()"
   ]
  },
  {
   "cell_type": "code",
   "execution_count": null,
   "metadata": {},
   "outputs": [],
   "source": []
  }
 ],
 "metadata": {
  "kernelspec": {
   "display_name": "Python 3",
   "language": "python",
   "name": "python3"
  },
  "language_info": {
   "codemirror_mode": {
    "name": "ipython",
    "version": 3
   },
   "file_extension": ".py",
   "mimetype": "text/x-python",
   "name": "python",
   "nbconvert_exporter": "python",
   "pygments_lexer": "ipython3",
   "version": "3.6.3"
  }
 },
 "nbformat": 4,
 "nbformat_minor": 2
}
