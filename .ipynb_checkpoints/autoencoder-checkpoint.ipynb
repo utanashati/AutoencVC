{
 "cells": [
  {
   "cell_type": "markdown",
   "metadata": {},
   "source": [
    "Copypaste from this tutorial: https://blog.keras.io/building-autoencoders-in-keras.html"
   ]
  },
  {
   "cell_type": "code",
   "execution_count": null,
   "metadata": {},
   "outputs": [],
   "source": [
    "from keras.layers import Input, Dense\n",
    "from keras.models import Model"
   ]
  },
  {
   "cell_type": "code",
   "execution_count": 5,
   "metadata": {},
   "outputs": [
    {
     "name": "stdout",
     "output_type": "stream",
     "text": [
      "Downloading data from https://s3.amazonaws.com/img-datasets/mnist.npz\n",
      "11493376/11490434 [==============================] - 14s 1us/step\n"
     ]
    }
   ],
   "source": [
    "from keras.datasets import mnist\n",
    "import numpy as np\n",
    "(x_train, _), (x_test, _) = mnist.load_data()"
   ]
  },
  {
   "cell_type": "code",
   "execution_count": 1,
   "metadata": {},
   "outputs": [
    {
     "name": "stderr",
     "output_type": "stream",
     "text": [
      "Using TensorFlow backend.\n"
     ]
    }
   ],
   "source": [
    "def build_model:\n",
    "\n",
    "    # this is the size of our encoded representations\n",
    "    encoding_dim = 32  # 32 floats -> compression of factor 24.5, assuming the input is 784 floats\n",
    "\n",
    "    # this is our input placeholder\n",
    "    input_img = Input(shape=(784,))\n",
    "    # \"encoded\" is the encoded representation of the input\n",
    "    encoded = Dense(encoding_dim, activation='relu')(input_img)\n",
    "    # \"decoded\" is the lossy reconstruction of the input\n",
    "    decoded = Dense(784, activation='sigmoid')(encoded)\n",
    "\n",
    "    # this model maps an input to its reconstruction\n",
    "    autoencoder = Model(input_img, decoded)\n",
    "\n",
    "\n",
    "    # this model maps an input to its encoded representation\n",
    "    encoder = Model(input_img, encoded)\n",
    "\n",
    "\n",
    "    # create a placeholder for an encoded (32-dimensional) input\n",
    "    encoded_input = Input(shape=(encoding_dim,))\n",
    "    # retrieve the last layer of the autoencoder model\n",
    "    decoder_layer = autoencoder.layers[-1]\n",
    "    # create the decoder model\n",
    "    decoder = Model(encoded_input, decoder_layer(encoded_input))\n",
    "\n",
    "\n",
    "    autoencoder.compile(optimizer='adadelta', loss='binary_crossentropy')\n",
    "\n",
    "\n",
    "    x_train = x_train.astype('float32') / 255.\n",
    "    x_test = x_test.astype('float32') / 255.\n",
    "    x_train = x_train.reshape((len(x_train), np.prod(x_train.shape[1:])))\n",
    "    x_test = x_test.reshape((len(x_test), np.prod(x_test.shape[1:])))\n",
    "    print(x_train.shape)\n",
    "    print(x_test.shape)\n",
    "\n",
    "    return autoencoder, encoder, decoder"
   ]
  },
  {
   "cell_type": "code",
   "execution_count": 8,
   "metadata": {},
   "outputs": [
    {
     "name": "stdout",
     "output_type": "stream",
     "text": [
      "Train on 60000 samples, validate on 10000 samples\n",
      "Epoch 1/50\n",
      "60000/60000 [==============================] - 4s 72us/step - loss: 0.3760 - val_loss: 0.2720\n",
      "Epoch 2/50\n",
      "60000/60000 [==============================] - 4s 71us/step - loss: 0.2635 - val_loss: 0.2515\n",
      "Epoch 3/50\n",
      "60000/60000 [==============================] - 4s 72us/step - loss: 0.2407 - val_loss: 0.2283\n",
      "Epoch 4/50\n",
      "60000/60000 [==============================] - 4s 62us/step - loss: 0.2212 - val_loss: 0.2121\n",
      "Epoch 5/50\n",
      "60000/60000 [==============================] - 4s 63us/step - loss: 0.2073 - val_loss: 0.2003\n",
      "Epoch 6/50\n",
      "60000/60000 [==============================] - 4s 62us/step - loss: 0.1969 - val_loss: 0.1912\n",
      "Epoch 7/50\n",
      "60000/60000 [==============================] - 4s 63us/step - loss: 0.1888 - val_loss: 0.1839\n",
      "Epoch 8/50\n",
      "60000/60000 [==============================] - 4s 62us/step - loss: 0.1823 - val_loss: 0.1781\n",
      "Epoch 9/50\n",
      "60000/60000 [==============================] - 4s 62us/step - loss: 0.1769 - val_loss: 0.1730\n",
      "Epoch 10/50\n",
      "60000/60000 [==============================] - 4s 62us/step - loss: 0.1720 - val_loss: 0.1683\n",
      "Epoch 11/50\n",
      "60000/60000 [==============================] - 4s 63us/step - loss: 0.1675 - val_loss: 0.1641\n",
      "Epoch 12/50\n",
      "60000/60000 [==============================] - 4s 62us/step - loss: 0.1632 - val_loss: 0.1598\n",
      "Epoch 13/50\n",
      "60000/60000 [==============================] - 4s 62us/step - loss: 0.1592 - val_loss: 0.1560\n",
      "Epoch 14/50\n",
      "60000/60000 [==============================] - 4s 63us/step - loss: 0.1555 - val_loss: 0.1525\n",
      "Epoch 15/50\n",
      "60000/60000 [==============================] - 4s 64us/step - loss: 0.1521 - val_loss: 0.1492\n",
      "Epoch 16/50\n",
      "60000/60000 [==============================] - 4s 63us/step - loss: 0.1489 - val_loss: 0.1461\n",
      "Epoch 17/50\n",
      "60000/60000 [==============================] - 4s 64us/step - loss: 0.1460 - val_loss: 0.1432\n",
      "Epoch 18/50\n",
      "60000/60000 [==============================] - 5s 78us/step - loss: 0.1432 - val_loss: 0.1406\n",
      "Epoch 19/50\n",
      "60000/60000 [==============================] - 4s 74us/step - loss: 0.1407 - val_loss: 0.1381\n",
      "Epoch 20/50\n",
      "60000/60000 [==============================] - 4s 66us/step - loss: 0.1383 - val_loss: 0.1358\n",
      "Epoch 21/50\n",
      "60000/60000 [==============================] - 4s 68us/step - loss: 0.1360 - val_loss: 0.1336\n",
      "Epoch 22/50\n",
      "60000/60000 [==============================] - 4s 67us/step - loss: 0.1339 - val_loss: 0.1315\n",
      "Epoch 23/50\n",
      "60000/60000 [==============================] - 4s 62us/step - loss: 0.1319 - val_loss: 0.1295\n",
      "Epoch 24/50\n",
      "60000/60000 [==============================] - 4s 64us/step - loss: 0.1300 - val_loss: 0.1276\n",
      "Epoch 25/50\n",
      "60000/60000 [==============================] - 4s 63us/step - loss: 0.1281 - val_loss: 0.1258\n",
      "Epoch 26/50\n",
      "60000/60000 [==============================] - 4s 65us/step - loss: 0.1264 - val_loss: 0.1241\n",
      "Epoch 27/50\n",
      "60000/60000 [==============================] - 5s 82us/step - loss: 0.1247 - val_loss: 0.1224\n",
      "Epoch 28/50\n",
      "60000/60000 [==============================] - 7s 123us/step - loss: 0.1231 - val_loss: 0.1209\n",
      "Epoch 29/50\n",
      "60000/60000 [==============================] - 4s 75us/step - loss: 0.1216 - val_loss: 0.1194\n",
      "Epoch 30/50\n",
      "60000/60000 [==============================] - 5s 82us/step - loss: 0.1202 - val_loss: 0.1180\n",
      "Epoch 31/50\n",
      "60000/60000 [==============================] - 4s 66us/step - loss: 0.1188 - val_loss: 0.1167\n",
      "Epoch 32/50\n",
      "60000/60000 [==============================] - 4s 74us/step - loss: 0.1176 - val_loss: 0.1155\n",
      "Epoch 33/50\n",
      "60000/60000 [==============================] - 4s 62us/step - loss: 0.1164 - val_loss: 0.1143\n",
      "Epoch 34/50\n",
      "60000/60000 [==============================] - 4s 66us/step - loss: 0.1153 - val_loss: 0.1132\n",
      "Epoch 35/50\n",
      "60000/60000 [==============================] - 4s 64us/step - loss: 0.1142 - val_loss: 0.1122\n",
      "Epoch 36/50\n",
      "60000/60000 [==============================] - 4s 62us/step - loss: 0.1132 - val_loss: 0.1112\n",
      "Epoch 37/50\n",
      "60000/60000 [==============================] - 4s 65us/step - loss: 0.1123 - val_loss: 0.1103\n",
      "Epoch 38/50\n",
      "60000/60000 [==============================] - 4s 64us/step - loss: 0.1115 - val_loss: 0.1095\n",
      "Epoch 39/50\n",
      "60000/60000 [==============================] - 4s 62us/step - loss: 0.1107 - val_loss: 0.1087\n",
      "Epoch 40/50\n",
      "60000/60000 [==============================] - 4s 63us/step - loss: 0.1099 - val_loss: 0.1080\n",
      "Epoch 41/50\n",
      "60000/60000 [==============================] - 4s 63us/step - loss: 0.1092 - val_loss: 0.1073\n",
      "Epoch 42/50\n",
      "60000/60000 [==============================] - 4s 63us/step - loss: 0.1085 - val_loss: 0.1067\n",
      "Epoch 43/50\n",
      "60000/60000 [==============================] - 4s 63us/step - loss: 0.1079 - val_loss: 0.1061\n",
      "Epoch 44/50\n",
      "60000/60000 [==============================] - 4s 70us/step - loss: 0.1073 - val_loss: 0.1055\n",
      "Epoch 45/50\n",
      "60000/60000 [==============================] - 4s 61us/step - loss: 0.1068 - val_loss: 0.1050\n",
      "Epoch 46/50\n",
      "60000/60000 [==============================] - 4s 63us/step - loss: 0.1062 - val_loss: 0.1045\n",
      "Epoch 47/50\n",
      "60000/60000 [==============================] - 5s 79us/step - loss: 0.1057 - val_loss: 0.1040\n",
      "Epoch 48/50\n",
      "60000/60000 [==============================] - 4s 72us/step - loss: 0.1053 - val_loss: 0.1035\n",
      "Epoch 49/50\n",
      "60000/60000 [==============================] - 4s 67us/step - loss: 0.1049 - val_loss: 0.1031\n",
      "Epoch 50/50\n",
      "60000/60000 [==============================] - 4s 73us/step - loss: 0.1044 - val_loss: 0.1027\n"
     ]
    },
    {
     "data": {
      "text/plain": [
       "<keras.callbacks.History at 0x113359278>"
      ]
     },
     "execution_count": 8,
     "metadata": {},
     "output_type": "execute_result"
    }
   ],
   "source": [
    "autoencoder.fit(x_train, x_train,\n",
    "                epochs=50,\n",
    "                batch_size=256,\n",
    "                shuffle=True,\n",
    "                validation_data=(x_test, x_test))"
   ]
  },
  {
   "cell_type": "code",
   "execution_count": 9,
   "metadata": {},
   "outputs": [],
   "source": [
    "# encode and decode some digits\n",
    "# note that we take them from the *test* set\n",
    "encoded_imgs = encoder.predict(x_test)\n",
    "decoded_imgs = decoder.predict(encoded_imgs)"
   ]
  },
  {
   "cell_type": "code",
   "execution_count": 17,
   "metadata": {},
   "outputs": [
    {
     "data": {
      "image/png": "[encoded data removed]",
      "text/plain": [
       "<matplotlib.figure.Figure at 0x12c627cc0>"
      ]
     },
     "metadata": {},
     "output_type": "display_data"
    }
   ],
   "source": [
    "# use Matplotlib (don't ask)\n",
    "import matplotlib.pyplot as plt\n",
    "\n",
    "n = 10  # how many digits we will display\n",
    "plt.figure(figsize=(20, 4))\n",
    "for i in range(n):\n",
    "    # display original\n",
    "    ax = plt.subplot(3, n, i + 1)\n",
    "    plt.imshow(x_test[i].reshape(28, 28))\n",
    "    plt.gray()\n",
    "    ax.get_xaxis().set_visible(False)\n",
    "    ax.get_yaxis().set_visible(False)\n",
    "\n",
    "    # display reconstruction\n",
    "    ax = plt.subplot(3, n, i + 1 + n)\n",
    "    plt.imshow(decoded_imgs[i].reshape(28, 28))\n",
    "    plt.gray()\n",
    "    ax.get_xaxis().set_visible(False)\n",
    "    ax.get_yaxis().set_visible(False)\n",
    "    \n",
    "    # MINE: display representations\n",
    "    ax = plt.subplot(3, n, i + 1 + 2*n)\n",
    "    plt.imshow(encoded_imgs[i].reshape(8, 4))\n",
    "    plt.gray()\n",
    "    ax.get_xaxis().set_visible(False)\n",
    "    ax.get_yaxis().set_visible(False)\n",
    "plt.show()"
   ]
  },
  {
   "cell_type": "code",
   "execution_count": null,
   "metadata": {},
   "outputs": [],
   "source": []
  }
 ],
 "metadata": {
  "kernelspec": {
   "display_name": "Python 3",
   "language": "python",
   "name": "python3"
  },
  "language_info": {
   "codemirror_mode": {
    "name": "ipython",
    "version": 3
   },
   "file_extension": ".py",
   "mimetype": "text/x-python",
   "name": "python",
   "nbconvert_exporter": "python",
   "pygments_lexer": "ipython3",
   "version": "3.6.3"
  }
 },
 "nbformat": 4,
 "nbformat_minor": 2
}
