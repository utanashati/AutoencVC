{
 "cells": [
  {
   "cell_type": "markdown",
   "metadata": {},
   "source": [
    "# Autoencoder for MNIST\n",
    "\n",
    "The code is based on this tutorial: https://blog.keras.io/building-autoencoders-in-keras.html"
   ]
  },
  {
   "cell_type": "code",
   "execution_count": 1,
   "metadata": {},
   "outputs": [
    {
     "name": "stderr",
     "output_type": "stream",
     "text": [
      "Using TensorFlow backend.\n"
     ]
    }
   ],
   "source": [
    "from keras.layers import Input, Dense\n",
    "from keras.models import Model\n",
    "from keras.models import load_model\n",
    "from keras import regularizers\n",
    "import matplotlib.pyplot as plt"
   ]
  },
  {
   "cell_type": "code",
   "execution_count": 2,
   "metadata": {},
   "outputs": [
    {
     "name": "stdout",
     "output_type": "stream",
     "text": [
      "(60000, 784)\n",
      "(10000, 784)\n"
     ]
    }
   ],
   "source": [
    "# Downloading and preprocessing the dataset.\n",
    "from keras.datasets import mnist\n",
    "import numpy as np\n",
    "(x_train, _), (x_test, _) = mnist.load_data()\n",
    "\n",
    "# Normalization\n",
    "x_train = x_train.astype('float32') / 255.\n",
    "x_test = x_test.astype('float32') / 255.\n",
    "# 2D pic -> 784D vector\n",
    "x_train = x_train.reshape((len(x_train), np.prod(x_train.shape[1:])))\n",
    "x_test = x_test.reshape((len(x_test), np.prod(x_test.shape[1:])))\n",
    "print(x_train.shape)\n",
    "print(x_test.shape)"
   ]
  },
  {
   "cell_type": "code",
   "execution_count": 3,
   "metadata": {},
   "outputs": [],
   "source": [
    "def build_model(encoding_dim=32, input_shape=(784,), sparsity=10e-5):\n",
    "\n",
    "    # this is the size of our encoded representations\n",
    "    encoding_dim = encoding_dim  # 32 floats -> compression of factor 24.5, assuming the input is 784 floats\n",
    "\n",
    "    # this is our input placeholder\n",
    "    input_img = Input(shape=input_shape)\n",
    "    # \"encoded\" is the encoded representation of the input\n",
    "    encoded = Dense(encoding_dim, activation='relu',\n",
    "                    activity_regularizer=regularizers.l1(sparsity))(input_img)\n",
    "    # \"decoded\" is the lossy reconstruction of the input\n",
    "    decoded = Dense(input_shape[0], activation='sigmoid')(encoded)\n",
    "\n",
    "    # this model maps an input to its reconstruction\n",
    "    autoencoder = Model(input_img, decoded)\n",
    "\n",
    "\n",
    "    # this model maps an input to its encoded representation\n",
    "    encoder = Model(input_img, encoded)\n",
    "\n",
    "\n",
    "    # create a placeholder for an encoded (encoding_dim-dimensional) input\n",
    "    encoded_input = Input(shape=(encoding_dim,))\n",
    "    # retrieve the last layer of the autoencoder model\n",
    "    decoder_layer = autoencoder.layers[-1]\n",
    "    # create the decoder model\n",
    "    decoder = Model(encoded_input, decoder_layer(encoded_input))\n",
    "\n",
    "\n",
    "    autoencoder.compile(optimizer='adadelta', loss='binary_crossentropy')\n",
    "    \n",
    "\n",
    "    return autoencoder, encoder, decoder"
   ]
  },
  {
   "cell_type": "code",
   "execution_count": 4,
   "metadata": {},
   "outputs": [],
   "source": [
    "autoencoder, encoder, decoder = build_model(encoding_dim=36, input_shape=(784,), sparsity=10e-8)"
   ]
  },
  {
   "cell_type": "code",
   "execution_count": 5,
   "metadata": {},
   "outputs": [],
   "source": [
    "#autoencoder.set_weights(nonreg_weights) # Used to set pretrained non-sparse weights into a regularized autoencoder."
   ]
  },
  {
   "cell_type": "code",
   "execution_count": 6,
   "metadata": {},
   "outputs": [
    {
     "name": "stdout",
     "output_type": "stream",
     "text": [
      "Train on 60000 samples, validate on 10000 samples\n",
      "Epoch 1/100\n",
      " - 4s - loss: 0.3740 - val_loss: 0.2751\n",
      "Epoch 2/100\n",
      " - 4s - loss: 0.2679 - val_loss: 0.2571\n",
      "Epoch 3/100\n",
      " - 3s - loss: 0.2472 - val_loss: 0.2346\n",
      "Epoch 4/100\n",
      " - 4s - loss: 0.2268 - val_loss: 0.2169\n",
      "Epoch 5/100\n",
      " - 4s - loss: 0.2118 - val_loss: 0.2042\n",
      "Epoch 6/100\n",
      " - 4s - loss: 0.2007 - val_loss: 0.1943\n",
      "Epoch 7/100\n",
      " - 4s - loss: 0.1917 - val_loss: 0.1864\n",
      "Epoch 8/100\n",
      " - 4s - loss: 0.1846 - val_loss: 0.1799\n",
      "Epoch 9/100\n",
      " - 4s - loss: 0.1787 - val_loss: 0.1746\n",
      "Epoch 10/100\n",
      " - 4s - loss: 0.1736 - val_loss: 0.1699\n",
      "Epoch 11/100\n",
      " - 4s - loss: 0.1691 - val_loss: 0.1655\n",
      "Epoch 12/100\n",
      " - 4s - loss: 0.1649 - val_loss: 0.1615\n",
      "Epoch 13/100\n",
      " - 4s - loss: 0.1611 - val_loss: 0.1577\n",
      "Epoch 14/100\n",
      " - 4s - loss: 0.1575 - val_loss: 0.1545\n",
      "Epoch 15/100\n",
      " - 4s - loss: 0.1542 - val_loss: 0.1512\n",
      "Epoch 16/100\n",
      " - 4s - loss: 0.1512 - val_loss: 0.1482\n",
      "Epoch 17/100\n",
      " - 4s - loss: 0.1484 - val_loss: 0.1455\n",
      "Epoch 18/100\n",
      " - 4s - loss: 0.1458 - val_loss: 0.1430\n",
      "Epoch 19/100\n",
      " - 4s - loss: 0.1434 - val_loss: 0.1407\n",
      "Epoch 20/100\n",
      " - 4s - loss: 0.1412 - val_loss: 0.1385\n",
      "Epoch 21/100\n",
      " - 4s - loss: 0.1390 - val_loss: 0.1365\n",
      "Epoch 22/100\n",
      " - 4s - loss: 0.1370 - val_loss: 0.1344\n",
      "Epoch 23/100\n",
      " - 4s - loss: 0.1351 - val_loss: 0.1325\n",
      "Epoch 24/100\n",
      " - 4s - loss: 0.1332 - val_loss: 0.1307\n",
      "Epoch 25/100\n",
      " - 4s - loss: 0.1314 - val_loss: 0.1289\n",
      "Epoch 26/100\n",
      " - 4s - loss: 0.1297 - val_loss: 0.1272\n",
      "Epoch 27/100\n",
      " - 4s - loss: 0.1280 - val_loss: 0.1257\n",
      "Epoch 28/100\n",
      " - 4s - loss: 0.1264 - val_loss: 0.1241\n",
      "Epoch 29/100\n",
      " - 4s - loss: 0.1249 - val_loss: 0.1226\n",
      "Epoch 30/100\n",
      " - 4s - loss: 0.1235 - val_loss: 0.1212\n",
      "Epoch 31/100\n",
      " - 4s - loss: 0.1221 - val_loss: 0.1199\n",
      "Epoch 32/100\n",
      " - 4s - loss: 0.1209 - val_loss: 0.1186\n",
      "Epoch 33/100\n",
      " - 4s - loss: 0.1196 - val_loss: 0.1174\n",
      "Epoch 34/100\n",
      " - 5s - loss: 0.1185 - val_loss: 0.1163\n",
      "Epoch 35/100\n",
      " - 4s - loss: 0.1174 - val_loss: 0.1153\n",
      "Epoch 36/100\n",
      " - 4s - loss: 0.1164 - val_loss: 0.1143\n",
      "Epoch 37/100\n",
      " - 4s - loss: 0.1155 - val_loss: 0.1134\n",
      "Epoch 38/100\n",
      " - 4s - loss: 0.1146 - val_loss: 0.1125\n",
      "Epoch 39/100\n",
      " - 4s - loss: 0.1137 - val_loss: 0.1117\n",
      "Epoch 40/100\n",
      " - 4s - loss: 0.1130 - val_loss: 0.1110\n",
      "Epoch 41/100\n",
      " - 4s - loss: 0.1122 - val_loss: 0.1103\n",
      "Epoch 42/100\n",
      " - 4s - loss: 0.1115 - val_loss: 0.1096\n",
      "Epoch 43/100\n",
      " - 4s - loss: 0.1109 - val_loss: 0.1090\n",
      "Epoch 44/100\n",
      " - 4s - loss: 0.1103 - val_loss: 0.1084\n",
      "Epoch 45/100\n",
      " - 4s - loss: 0.1098 - val_loss: 0.1079\n",
      "Epoch 46/100\n",
      " - 4s - loss: 0.1092 - val_loss: 0.1074\n",
      "Epoch 47/100\n",
      " - 4s - loss: 0.1087 - val_loss: 0.1069\n",
      "Epoch 48/100\n",
      " - 4s - loss: 0.1083 - val_loss: 0.1064\n",
      "Epoch 49/100\n",
      " - 4s - loss: 0.1078 - val_loss: 0.1060\n",
      "Epoch 50/100\n",
      " - 4s - loss: 0.1074 - val_loss: 0.1056\n",
      "Epoch 51/100\n",
      " - 4s - loss: 0.1070 - val_loss: 0.1052\n",
      "Epoch 52/100\n",
      " - 4s - loss: 0.1066 - val_loss: 0.1049\n",
      "Epoch 53/100\n",
      " - 4s - loss: 0.1063 - val_loss: 0.1045\n",
      "Epoch 54/100\n",
      " - 4s - loss: 0.1059 - val_loss: 0.1042\n",
      "Epoch 55/100\n",
      " - 5s - loss: 0.1056 - val_loss: 0.1039\n",
      "Epoch 56/100\n",
      " - 4s - loss: 0.1053 - val_loss: 0.1036\n",
      "Epoch 57/100\n",
      " - 4s - loss: 0.1050 - val_loss: 0.1033\n",
      "Epoch 58/100\n",
      " - 4s - loss: 0.1048 - val_loss: 0.1030\n",
      "Epoch 59/100\n",
      " - 4s - loss: 0.1045 - val_loss: 0.1028\n",
      "Epoch 60/100\n",
      " - 4s - loss: 0.1042 - val_loss: 0.1026\n",
      "Epoch 61/100\n",
      " - 4s - loss: 0.1040 - val_loss: 0.1023\n",
      "Epoch 62/100\n",
      " - 4s - loss: 0.1038 - val_loss: 0.1021\n",
      "Epoch 63/100\n",
      " - 4s - loss: 0.1036 - val_loss: 0.1019\n",
      "Epoch 64/100\n",
      " - 4s - loss: 0.1034 - val_loss: 0.1017\n",
      "Epoch 65/100\n",
      " - 4s - loss: 0.1032 - val_loss: 0.1015\n",
      "Epoch 66/100\n",
      " - 4s - loss: 0.1030 - val_loss: 0.1014\n",
      "Epoch 67/100\n",
      " - 4s - loss: 0.1028 - val_loss: 0.1012\n",
      "Epoch 68/100\n",
      " - 4s - loss: 0.1026 - val_loss: 0.1010\n",
      "Epoch 69/100\n",
      " - 4s - loss: 0.1025 - val_loss: 0.1009\n",
      "Epoch 70/100\n",
      " - 4s - loss: 0.1023 - val_loss: 0.1007\n",
      "Epoch 71/100\n",
      " - 4s - loss: 0.1022 - val_loss: 0.1006\n",
      "Epoch 72/100\n",
      " - 4s - loss: 0.1021 - val_loss: 0.1005\n",
      "Epoch 73/100\n",
      " - 4s - loss: 0.1019 - val_loss: 0.1003\n",
      "Epoch 74/100\n",
      " - 4s - loss: 0.1018 - val_loss: 0.1002\n",
      "Epoch 75/100\n",
      " - 4s - loss: 0.1017 - val_loss: 0.1001\n",
      "Epoch 76/100\n",
      " - 4s - loss: 0.1016 - val_loss: 0.1000\n",
      "Epoch 77/100\n",
      " - 5s - loss: 0.1015 - val_loss: 0.0999\n",
      "Epoch 78/100\n",
      " - 4s - loss: 0.1014 - val_loss: 0.0998\n",
      "Epoch 79/100\n",
      " - 4s - loss: 0.1013 - val_loss: 0.0997\n",
      "Epoch 80/100\n",
      " - 4s - loss: 0.1012 - val_loss: 0.0996\n",
      "Epoch 81/100\n",
      " - 4s - loss: 0.1011 - val_loss: 0.0996\n",
      "Epoch 82/100\n",
      " - 4s - loss: 0.1010 - val_loss: 0.0995\n",
      "Epoch 83/100\n",
      " - 4s - loss: 0.1009 - val_loss: 0.0994\n",
      "Epoch 84/100\n",
      " - 4s - loss: 0.1008 - val_loss: 0.0993\n",
      "Epoch 85/100\n",
      " - 4s - loss: 0.1008 - val_loss: 0.0992\n",
      "Epoch 86/100\n",
      " - 4s - loss: 0.1007 - val_loss: 0.0992\n",
      "Epoch 87/100\n",
      " - 6s - loss: 0.1006 - val_loss: 0.0991\n",
      "Epoch 88/100\n",
      " - 4s - loss: 0.1006 - val_loss: 0.0990\n",
      "Epoch 89/100\n",
      " - 4s - loss: 0.1005 - val_loss: 0.0990\n",
      "Epoch 90/100\n",
      " - 4s - loss: 0.1004 - val_loss: 0.0989\n",
      "Epoch 91/100\n",
      " - 4s - loss: 0.1004 - val_loss: 0.0989\n",
      "Epoch 92/100\n",
      " - 6s - loss: 0.1003 - val_loss: 0.0988\n",
      "Epoch 93/100\n",
      " - 4s - loss: 0.1002 - val_loss: 0.0987\n",
      "Epoch 94/100\n",
      " - 4s - loss: 0.1002 - val_loss: 0.0987\n",
      "Epoch 95/100\n",
      " - 4s - loss: 0.1001 - val_loss: 0.0986\n",
      "Epoch 96/100\n",
      " - 4s - loss: 0.1001 - val_loss: 0.0986\n",
      "Epoch 97/100\n",
      " - 4s - loss: 0.1000 - val_loss: 0.0985\n",
      "Epoch 98/100\n",
      " - 4s - loss: 0.1000 - val_loss: 0.0985\n",
      "Epoch 99/100\n",
      " - 4s - loss: 0.0999 - val_loss: 0.0984\n",
      "Epoch 100/100\n",
      " - 4s - loss: 0.0999 - val_loss: 0.0984\n"
     ]
    }
   ],
   "source": [
    "history = autoencoder.fit(x_train, x_train,\n",
    "                          epochs=100,\n",
    "                          batch_size=256,\n",
    "                          shuffle=True,\n",
    "                          validation_data=(x_test, x_test),\n",
    "                          verbose=2)"
   ]
  },
  {
   "cell_type": "code",
   "execution_count": 7,
   "metadata": {},
   "outputs": [
    {
     "data": {
      "image/png": "[encoded data removed]",
      "text/plain": [
       "<matplotlib.figure.Figure at 0x1204b62b0>"
      ]
     },
     "metadata": {},
     "output_type": "display_data"
    }
   ],
   "source": [
    "plt.plot(history.history['loss'])\n",
    "plt.plot(history.history['val_loss'])\n",
    "plt.title('l1-regilarized autoencoder, sparsity = 10e-8')\n",
    "plt.show()"
   ]
  },
  {
   "cell_type": "code",
   "execution_count": 8,
   "metadata": {},
   "outputs": [],
   "source": [
    "# Used to track encoded/decoded means (see tutorial) for several training conditions.\n",
    "encoded_means = []\n",
    "decoded_means = []"
   ]
  },
  {
   "cell_type": "code",
   "execution_count": 9,
   "metadata": {},
   "outputs": [],
   "source": [
    "# encode and decode some digits\n",
    "# note that we take them from the *test* set\n",
    "encoded_imgs = encoder.predict(x_test)\n",
    "encoded_means.append(encoded_imgs.mean())\n",
    "decoded_imgs = decoder.predict(encoded_imgs)\n",
    "decoded_means.append(decoded_imgs.mean())"
   ]
  },
  {
   "cell_type": "code",
   "execution_count": 10,
   "metadata": {},
   "outputs": [],
   "source": [
    "#del encoded_means[-1]\n",
    "#del decoded_means[-1]"
   ]
  },
  {
   "cell_type": "code",
   "execution_count": 11,
   "metadata": {},
   "outputs": [
    {
     "name": "stdout",
     "output_type": "stream",
     "text": [
      "[4.9536505]\n",
      "[0.13293596]\n"
     ]
    }
   ],
   "source": [
    "print(encoded_means)\n",
    "print(decoded_means)"
   ]
  },
  {
   "cell_type": "code",
   "execution_count": 12,
   "metadata": {},
   "outputs": [
    {
     "data": {
      "image/png": "[encoded data removed]",
      "text/plain": [
       "<matplotlib.figure.Figure at 0x1207d8860>"
      ]
     },
     "metadata": {},
     "output_type": "display_data"
    }
   ],
   "source": [
    "# Display input, reconstruction and representations.\n",
    "n = 10  # how many digits we will display\n",
    "plt.figure(figsize=(20, 4))\n",
    "for i in range(n):\n",
    "    # display original\n",
    "    ax = plt.subplot(3, n, i + 1)\n",
    "    plt.imshow(x_test[i].reshape(28, 28))\n",
    "    plt.gray()\n",
    "    ax.get_xaxis().set_visible(False)\n",
    "    ax.get_yaxis().set_visible(False)\n",
    "\n",
    "    # display reconstruction\n",
    "    ax = plt.subplot(3, n, i + 1 + n)\n",
    "    plt.imshow(decoded_imgs[i].reshape(28, 28))\n",
    "    plt.gray()\n",
    "    ax.get_xaxis().set_visible(False)\n",
    "    ax.get_yaxis().set_visible(False)\n",
    "    \n",
    "    # display representations\n",
    "    ax = plt.subplot(3, n, i + 1 + 2*n)\n",
    "    plt.imshow(encoded_imgs[i].reshape(6, 6))\n",
    "    plt.gray()\n",
    "    ax.get_xaxis().set_visible(False)\n",
    "    ax.get_yaxis().set_visible(False)\n",
    "plt.show()"
   ]
  },
  {
   "cell_type": "code",
   "execution_count": 13,
   "metadata": {},
   "outputs": [],
   "source": [
    "autoencoder.save('data/models_log/36_sparse_10e-8_autoencoder')\n",
    "encoder.save('data/models_log/36_sparse_10e-8_encoder')\n",
    "decoder.save('data/models_log/36_sparse_10e-8_decoder')"
   ]
  },
  {
   "cell_type": "code",
   "execution_count": null,
   "metadata": {},
   "outputs": [],
   "source": [
    "# Used to set pretrained non-sparse weights into a regularized autoencoder.\n",
    "#autoencoder = load_model('data/models_log/36_autoencoder')\n",
    "#encoder = load_model('data/models_log/36_encoder')\n",
    "#decoder = load_model('data/models_log/36_decoder')"
   ]
  },
  {
   "cell_type": "code",
   "execution_count": null,
   "metadata": {},
   "outputs": [],
   "source": [
    "#nonreg_weights = autoencoder.get_weights()"
   ]
  },
  {
   "cell_type": "code",
   "execution_count": null,
   "metadata": {},
   "outputs": [],
   "source": []
  }
 ],
 "metadata": {
  "kernelspec": {
   "display_name": "Python 3",
   "language": "python",
   "name": "python3"
  },
  "language_info": {
   "codemirror_mode": {
    "name": "ipython",
    "version": 3
   },
   "file_extension": ".py",
   "mimetype": "text/x-python",
   "name": "python",
   "nbconvert_exporter": "python",
   "pygments_lexer": "ipython3",
   "version": "3.6.3"
  }
 },
 "nbformat": 4,
 "nbformat_minor": 2
}
